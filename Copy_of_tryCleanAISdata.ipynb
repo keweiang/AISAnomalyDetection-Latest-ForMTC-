{
  "nbformat": 4,
  "nbformat_minor": 0,
  "metadata": {
    "colab": {
      "name": "Copy of tryCleanAISdata.ipynb",
      "provenance": [],
      "collapsed_sections": [],
      "include_colab_link": true
    },
    "kernelspec": {
      "name": "python3",
      "display_name": "Python 3"
    },
    "language_info": {
      "name": "python"
    }
  },
  "cells": [
    {
      "cell_type": "markdown",
      "metadata": {
        "id": "view-in-github",
        "colab_type": "text"
      },
      "source": [
        "<a href=\"https://colab.research.google.com/github/keweiang/AISAnomalyDetection-Latest-ForMTC-/blob/main/Copy_of_tryCleanAISdata.ipynb\" target=\"_parent\"><img src=\"https://colab.research.google.com/assets/colab-badge.svg\" alt=\"Open In Colab\"/></a>"
      ]
    },
    {
      "cell_type": "markdown",
      "source": [
        "Mount Google Drive"
      ],
      "metadata": {
        "id": "9yn-jZsBYi0r"
      }
    },
    {
      "cell_type": "code",
      "source": [
        "from google.colab import drive\n",
        "drive.mount('/content/drive')"
      ],
      "metadata": {
        "colab": {
          "base_uri": "https://localhost:8080/"
        },
        "id": "QFU2gEI5XAVI",
        "outputId": "cc7c2640-8bb9-46e9-d1c3-a70cccb26d4d"
      },
      "execution_count": 15,
      "outputs": [
        {
          "output_type": "stream",
          "name": "stdout",
          "text": [
            "Drive already mounted at /content/drive; to attempt to forcibly remount, call drive.mount(\"/content/drive\", force_remount=True).\n"
          ]
        }
      ]
    },
    {
      "cell_type": "markdown",
      "source": [
        "Read every .txt in AIS data folder, give each column the attribute name and select those rows in October only, appended the .txt files"
      ],
      "metadata": {
        "id": "C-mph_AEYnLB"
      }
    },
    {
      "cell_type": "code",
      "source": [
        "import pandas as pd\n",
        "import numpy as np\n",
        "import glob\n",
        "\n",
        "all_data = pd.DataFrame()\n",
        "for f in glob.glob(\"/content/drive/MyDrive/ShipMove/*.txt\"):\n",
        "    df = pd.read_csv(f, delimiter = \";\",header=None, names = ['Date Time','Message ID', 'MMSI Number','Navigation Status','Rate of Turn','Speed Over Ground','Position Accuracy','Longitude','Latitude','Course Over Ground','Heading Angle','Timestamp','Channel of AIS','Repeat Indicator'])\n",
        "    df=df[(df['Date Time']>= '2019-09-25') & (df['Date Time']<= '2019-10-04')]    #filter October 1 to October 4 data only -> 4 days data\n",
        "    all_data = all_data.append(df,ignore_index=True)"
      ],
      "metadata": {
        "id": "njrdRpALV6oV"
      },
      "execution_count": 16,
      "outputs": []
    },
    {
      "cell_type": "markdown",
      "source": [
        "Drop those less important features that cannot contribute to determine abnomalies, select those important features into AISdata.csv"
      ],
      "metadata": {
        "id": "2FBOZiJnZKL5"
      }
    },
    {
      "cell_type": "code",
      "source": [
        "from google.colab import files\n",
        "all_data.drop(['Message ID', 'Navigation Status','Position Accuracy','Repeat Indicator'], inplace=True, axis = 1)\n",
        "all_data"
      ],
      "metadata": {
        "id": "T5-ovyVrjYi6",
        "colab": {
          "base_uri": "https://localhost:8080/",
          "height": 641
        },
        "outputId": "8c4e40e6-cee9-4cf8-e94c-f7e20707b111"
      },
      "execution_count": 17,
      "outputs": [
        {
          "output_type": "execute_result",
          "data": {
            "text/plain": [
              "                          Date Time  MMSI Number  Rate of Turn  \\\n",
              "0        2019-09-25 00:47:34.714526    566241000             0   \n",
              "1        2019-09-25 01:17:34.747775    566241000             0   \n",
              "2        2019-09-25 01:35:34.277209    566241000             0   \n",
              "3        2019-09-25 02:47:34.752767    566241000             0   \n",
              "4        2019-09-25 03:05:34.466400    566241000             0   \n",
              "...                             ...          ...           ...   \n",
              "2783768  2019-09-27 19:11:31.041697    248357000             0   \n",
              "2783769  2019-09-27 19:12:31.040949    248357000             0   \n",
              "2783770  2019-09-27 19:14:54.426594    248357000             0   \n",
              "2783771  2019-09-27 19:16:19.015192    248357000             0   \n",
              "2783772  2019-09-27 19:23:17.939724    248357000             0   \n",
              "\n",
              "         Speed Over Ground   Longitude  Latitude  Course Over Ground  \\\n",
              "0                      0.0  103.687757  1.235233               178.6   \n",
              "1                      0.0  103.687773  1.235203               178.6   \n",
              "2                      0.0  103.687742  1.235223               178.6   \n",
              "3                      0.0  103.687763  1.235233               178.6   \n",
              "4                      0.0  103.687790  1.235210               178.6   \n",
              "...                    ...         ...       ...                 ...   \n",
              "2783768               16.3  103.972527  1.231805                82.1   \n",
              "2783769               16.3  103.977030  1.232343                82.9   \n",
              "2783770               16.2  103.987682  1.233683                83.1   \n",
              "2783771               16.1  103.994020  1.234497                82.8   \n",
              "2783772               15.8  104.024688  1.238630                82.3   \n",
              "\n",
              "         Heading Angle  Timestamp Channel of AIS  \n",
              "0                   48         45              A  \n",
              "1                   49         45              A  \n",
              "2                   49         45              A  \n",
              "3                   49         45              A  \n",
              "4                   49         45              A  \n",
              "...                ...        ...            ...  \n",
              "2783768             83         29              A  \n",
              "2783769             82         29              A  \n",
              "2783770             82         52              A  \n",
              "2783771             82         17              A  \n",
              "2783772             83         16              A  \n",
              "\n",
              "[2783773 rows x 10 columns]"
            ],
            "text/html": [
              "\n",
              "  <div id=\"df-1a06c070-d609-4e11-b928-5ece5cc4ecc3\">\n",
              "    <div class=\"colab-df-container\">\n",
              "      <div>\n",
              "<style scoped>\n",
              "    .dataframe tbody tr th:only-of-type {\n",
              "        vertical-align: middle;\n",
              "    }\n",
              "\n",
              "    .dataframe tbody tr th {\n",
              "        vertical-align: top;\n",
              "    }\n",
              "\n",
              "    .dataframe thead th {\n",
              "        text-align: right;\n",
              "    }\n",
              "</style>\n",
              "<table border=\"1\" class=\"dataframe\">\n",
              "  <thead>\n",
              "    <tr style=\"text-align: right;\">\n",
              "      <th></th>\n",
              "      <th>Date Time</th>\n",
              "      <th>MMSI Number</th>\n",
              "      <th>Rate of Turn</th>\n",
              "      <th>Speed Over Ground</th>\n",
              "      <th>Longitude</th>\n",
              "      <th>Latitude</th>\n",
              "      <th>Course Over Ground</th>\n",
              "      <th>Heading Angle</th>\n",
              "      <th>Timestamp</th>\n",
              "      <th>Channel of AIS</th>\n",
              "    </tr>\n",
              "  </thead>\n",
              "  <tbody>\n",
              "    <tr>\n",
              "      <th>0</th>\n",
              "      <td>2019-09-25 00:47:34.714526</td>\n",
              "      <td>566241000</td>\n",
              "      <td>0</td>\n",
              "      <td>0.0</td>\n",
              "      <td>103.687757</td>\n",
              "      <td>1.235233</td>\n",
              "      <td>178.6</td>\n",
              "      <td>48</td>\n",
              "      <td>45</td>\n",
              "      <td>A</td>\n",
              "    </tr>\n",
              "    <tr>\n",
              "      <th>1</th>\n",
              "      <td>2019-09-25 01:17:34.747775</td>\n",
              "      <td>566241000</td>\n",
              "      <td>0</td>\n",
              "      <td>0.0</td>\n",
              "      <td>103.687773</td>\n",
              "      <td>1.235203</td>\n",
              "      <td>178.6</td>\n",
              "      <td>49</td>\n",
              "      <td>45</td>\n",
              "      <td>A</td>\n",
              "    </tr>\n",
              "    <tr>\n",
              "      <th>2</th>\n",
              "      <td>2019-09-25 01:35:34.277209</td>\n",
              "      <td>566241000</td>\n",
              "      <td>0</td>\n",
              "      <td>0.0</td>\n",
              "      <td>103.687742</td>\n",
              "      <td>1.235223</td>\n",
              "      <td>178.6</td>\n",
              "      <td>49</td>\n",
              "      <td>45</td>\n",
              "      <td>A</td>\n",
              "    </tr>\n",
              "    <tr>\n",
              "      <th>3</th>\n",
              "      <td>2019-09-25 02:47:34.752767</td>\n",
              "      <td>566241000</td>\n",
              "      <td>0</td>\n",
              "      <td>0.0</td>\n",
              "      <td>103.687763</td>\n",
              "      <td>1.235233</td>\n",
              "      <td>178.6</td>\n",
              "      <td>49</td>\n",
              "      <td>45</td>\n",
              "      <td>A</td>\n",
              "    </tr>\n",
              "    <tr>\n",
              "      <th>4</th>\n",
              "      <td>2019-09-25 03:05:34.466400</td>\n",
              "      <td>566241000</td>\n",
              "      <td>0</td>\n",
              "      <td>0.0</td>\n",
              "      <td>103.687790</td>\n",
              "      <td>1.235210</td>\n",
              "      <td>178.6</td>\n",
              "      <td>49</td>\n",
              "      <td>45</td>\n",
              "      <td>A</td>\n",
              "    </tr>\n",
              "    <tr>\n",
              "      <th>...</th>\n",
              "      <td>...</td>\n",
              "      <td>...</td>\n",
              "      <td>...</td>\n",
              "      <td>...</td>\n",
              "      <td>...</td>\n",
              "      <td>...</td>\n",
              "      <td>...</td>\n",
              "      <td>...</td>\n",
              "      <td>...</td>\n",
              "      <td>...</td>\n",
              "    </tr>\n",
              "    <tr>\n",
              "      <th>2783768</th>\n",
              "      <td>2019-09-27 19:11:31.041697</td>\n",
              "      <td>248357000</td>\n",
              "      <td>0</td>\n",
              "      <td>16.3</td>\n",
              "      <td>103.972527</td>\n",
              "      <td>1.231805</td>\n",
              "      <td>82.1</td>\n",
              "      <td>83</td>\n",
              "      <td>29</td>\n",
              "      <td>A</td>\n",
              "    </tr>\n",
              "    <tr>\n",
              "      <th>2783769</th>\n",
              "      <td>2019-09-27 19:12:31.040949</td>\n",
              "      <td>248357000</td>\n",
              "      <td>0</td>\n",
              "      <td>16.3</td>\n",
              "      <td>103.977030</td>\n",
              "      <td>1.232343</td>\n",
              "      <td>82.9</td>\n",
              "      <td>82</td>\n",
              "      <td>29</td>\n",
              "      <td>A</td>\n",
              "    </tr>\n",
              "    <tr>\n",
              "      <th>2783770</th>\n",
              "      <td>2019-09-27 19:14:54.426594</td>\n",
              "      <td>248357000</td>\n",
              "      <td>0</td>\n",
              "      <td>16.2</td>\n",
              "      <td>103.987682</td>\n",
              "      <td>1.233683</td>\n",
              "      <td>83.1</td>\n",
              "      <td>82</td>\n",
              "      <td>52</td>\n",
              "      <td>A</td>\n",
              "    </tr>\n",
              "    <tr>\n",
              "      <th>2783771</th>\n",
              "      <td>2019-09-27 19:16:19.015192</td>\n",
              "      <td>248357000</td>\n",
              "      <td>0</td>\n",
              "      <td>16.1</td>\n",
              "      <td>103.994020</td>\n",
              "      <td>1.234497</td>\n",
              "      <td>82.8</td>\n",
              "      <td>82</td>\n",
              "      <td>17</td>\n",
              "      <td>A</td>\n",
              "    </tr>\n",
              "    <tr>\n",
              "      <th>2783772</th>\n",
              "      <td>2019-09-27 19:23:17.939724</td>\n",
              "      <td>248357000</td>\n",
              "      <td>0</td>\n",
              "      <td>15.8</td>\n",
              "      <td>104.024688</td>\n",
              "      <td>1.238630</td>\n",
              "      <td>82.3</td>\n",
              "      <td>83</td>\n",
              "      <td>16</td>\n",
              "      <td>A</td>\n",
              "    </tr>\n",
              "  </tbody>\n",
              "</table>\n",
              "<p>2783773 rows × 10 columns</p>\n",
              "</div>\n",
              "      <button class=\"colab-df-convert\" onclick=\"convertToInteractive('df-1a06c070-d609-4e11-b928-5ece5cc4ecc3')\"\n",
              "              title=\"Convert this dataframe to an interactive table.\"\n",
              "              style=\"display:none;\">\n",
              "        \n",
              "  <svg xmlns=\"http://www.w3.org/2000/svg\" height=\"24px\"viewBox=\"0 0 24 24\"\n",
              "       width=\"24px\">\n",
              "    <path d=\"M0 0h24v24H0V0z\" fill=\"none\"/>\n",
              "    <path d=\"M18.56 5.44l.94 2.06.94-2.06 2.06-.94-2.06-.94-.94-2.06-.94 2.06-2.06.94zm-11 1L8.5 8.5l.94-2.06 2.06-.94-2.06-.94L8.5 2.5l-.94 2.06-2.06.94zm10 10l.94 2.06.94-2.06 2.06-.94-2.06-.94-.94-2.06-.94 2.06-2.06.94z\"/><path d=\"M17.41 7.96l-1.37-1.37c-.4-.4-.92-.59-1.43-.59-.52 0-1.04.2-1.43.59L10.3 9.45l-7.72 7.72c-.78.78-.78 2.05 0 2.83L4 21.41c.39.39.9.59 1.41.59.51 0 1.02-.2 1.41-.59l7.78-7.78 2.81-2.81c.8-.78.8-2.07 0-2.86zM5.41 20L4 18.59l7.72-7.72 1.47 1.35L5.41 20z\"/>\n",
              "  </svg>\n",
              "      </button>\n",
              "      \n",
              "  <style>\n",
              "    .colab-df-container {\n",
              "      display:flex;\n",
              "      flex-wrap:wrap;\n",
              "      gap: 12px;\n",
              "    }\n",
              "\n",
              "    .colab-df-convert {\n",
              "      background-color: #E8F0FE;\n",
              "      border: none;\n",
              "      border-radius: 50%;\n",
              "      cursor: pointer;\n",
              "      display: none;\n",
              "      fill: #1967D2;\n",
              "      height: 32px;\n",
              "      padding: 0 0 0 0;\n",
              "      width: 32px;\n",
              "    }\n",
              "\n",
              "    .colab-df-convert:hover {\n",
              "      background-color: #E2EBFA;\n",
              "      box-shadow: 0px 1px 2px rgba(60, 64, 67, 0.3), 0px 1px 3px 1px rgba(60, 64, 67, 0.15);\n",
              "      fill: #174EA6;\n",
              "    }\n",
              "\n",
              "    [theme=dark] .colab-df-convert {\n",
              "      background-color: #3B4455;\n",
              "      fill: #D2E3FC;\n",
              "    }\n",
              "\n",
              "    [theme=dark] .colab-df-convert:hover {\n",
              "      background-color: #434B5C;\n",
              "      box-shadow: 0px 1px 3px 1px rgba(0, 0, 0, 0.15);\n",
              "      filter: drop-shadow(0px 1px 2px rgba(0, 0, 0, 0.3));\n",
              "      fill: #FFFFFF;\n",
              "    }\n",
              "  </style>\n",
              "\n",
              "      <script>\n",
              "        const buttonEl =\n",
              "          document.querySelector('#df-1a06c070-d609-4e11-b928-5ece5cc4ecc3 button.colab-df-convert');\n",
              "        buttonEl.style.display =\n",
              "          google.colab.kernel.accessAllowed ? 'block' : 'none';\n",
              "\n",
              "        async function convertToInteractive(key) {\n",
              "          const element = document.querySelector('#df-1a06c070-d609-4e11-b928-5ece5cc4ecc3');\n",
              "          const dataTable =\n",
              "            await google.colab.kernel.invokeFunction('convertToInteractive',\n",
              "                                                     [key], {});\n",
              "          if (!dataTable) return;\n",
              "\n",
              "          const docLinkHtml = 'Like what you see? Visit the ' +\n",
              "            '<a target=\"_blank\" href=https://colab.research.google.com/notebooks/data_table.ipynb>data table notebook</a>'\n",
              "            + ' to learn more about interactive tables.';\n",
              "          element.innerHTML = '';\n",
              "          dataTable['output_type'] = 'display_data';\n",
              "          await google.colab.output.renderOutput(dataTable, element);\n",
              "          const docLink = document.createElement('div');\n",
              "          docLink.innerHTML = docLinkHtml;\n",
              "          element.appendChild(docLink);\n",
              "        }\n",
              "      </script>\n",
              "    </div>\n",
              "  </div>\n",
              "  "
            ]
          },
          "metadata": {},
          "execution_count": 17
        }
      ]
    },
    {
      "cell_type": "code",
      "source": [
        "MMSI=all_data['MMSI Number'].unique()\n",
        "print(MMSI)\n",
        "\n",
        "from numpy import savetxt\n",
        "savetxt('MMSI.csv', MMSI, delimiter='\\n')"
      ],
      "metadata": {
        "colab": {
          "base_uri": "https://localhost:8080/"
        },
        "id": "fvuoBdmIVz1v",
        "outputId": "6efe8343-c889-4929-e1ca-9d7b5a505a6c"
      },
      "execution_count": 18,
      "outputs": [
        {
          "output_type": "stream",
          "name": "stdout",
          "text": [
            "[566241000 566218000 566282000 ... 248437000 248376000 248357000]\n"
          ]
        }
      ]
    },
    {
      "cell_type": "code",
      "source": [
        "# remove duplicates\n",
        "all_data.drop_duplicates()"
      ],
      "metadata": {
        "colab": {
          "base_uri": "https://localhost:8080/",
          "height": 641
        },
        "id": "pP2FC-MuZDbH",
        "outputId": "babd7360-ff8c-48b6-ce3e-21afcb19069b"
      },
      "execution_count": 19,
      "outputs": [
        {
          "output_type": "execute_result",
          "data": {
            "text/plain": [
              "                          Date Time  MMSI Number  Rate of Turn  \\\n",
              "0        2019-09-25 00:47:34.714526    566241000             0   \n",
              "1        2019-09-25 01:17:34.747775    566241000             0   \n",
              "2        2019-09-25 01:35:34.277209    566241000             0   \n",
              "3        2019-09-25 02:47:34.752767    566241000             0   \n",
              "4        2019-09-25 03:05:34.466400    566241000             0   \n",
              "...                             ...          ...           ...   \n",
              "2783768  2019-09-27 19:11:31.041697    248357000             0   \n",
              "2783769  2019-09-27 19:12:31.040949    248357000             0   \n",
              "2783770  2019-09-27 19:14:54.426594    248357000             0   \n",
              "2783771  2019-09-27 19:16:19.015192    248357000             0   \n",
              "2783772  2019-09-27 19:23:17.939724    248357000             0   \n",
              "\n",
              "         Speed Over Ground   Longitude  Latitude  Course Over Ground  \\\n",
              "0                      0.0  103.687757  1.235233               178.6   \n",
              "1                      0.0  103.687773  1.235203               178.6   \n",
              "2                      0.0  103.687742  1.235223               178.6   \n",
              "3                      0.0  103.687763  1.235233               178.6   \n",
              "4                      0.0  103.687790  1.235210               178.6   \n",
              "...                    ...         ...       ...                 ...   \n",
              "2783768               16.3  103.972527  1.231805                82.1   \n",
              "2783769               16.3  103.977030  1.232343                82.9   \n",
              "2783770               16.2  103.987682  1.233683                83.1   \n",
              "2783771               16.1  103.994020  1.234497                82.8   \n",
              "2783772               15.8  104.024688  1.238630                82.3   \n",
              "\n",
              "         Heading Angle  Timestamp Channel of AIS  \n",
              "0                   48         45              A  \n",
              "1                   49         45              A  \n",
              "2                   49         45              A  \n",
              "3                   49         45              A  \n",
              "4                   49         45              A  \n",
              "...                ...        ...            ...  \n",
              "2783768             83         29              A  \n",
              "2783769             82         29              A  \n",
              "2783770             82         52              A  \n",
              "2783771             82         17              A  \n",
              "2783772             83         16              A  \n",
              "\n",
              "[2781826 rows x 10 columns]"
            ],
            "text/html": [
              "\n",
              "  <div id=\"df-2546d129-5ec3-492a-a25d-36bb677a4bee\">\n",
              "    <div class=\"colab-df-container\">\n",
              "      <div>\n",
              "<style scoped>\n",
              "    .dataframe tbody tr th:only-of-type {\n",
              "        vertical-align: middle;\n",
              "    }\n",
              "\n",
              "    .dataframe tbody tr th {\n",
              "        vertical-align: top;\n",
              "    }\n",
              "\n",
              "    .dataframe thead th {\n",
              "        text-align: right;\n",
              "    }\n",
              "</style>\n",
              "<table border=\"1\" class=\"dataframe\">\n",
              "  <thead>\n",
              "    <tr style=\"text-align: right;\">\n",
              "      <th></th>\n",
              "      <th>Date Time</th>\n",
              "      <th>MMSI Number</th>\n",
              "      <th>Rate of Turn</th>\n",
              "      <th>Speed Over Ground</th>\n",
              "      <th>Longitude</th>\n",
              "      <th>Latitude</th>\n",
              "      <th>Course Over Ground</th>\n",
              "      <th>Heading Angle</th>\n",
              "      <th>Timestamp</th>\n",
              "      <th>Channel of AIS</th>\n",
              "    </tr>\n",
              "  </thead>\n",
              "  <tbody>\n",
              "    <tr>\n",
              "      <th>0</th>\n",
              "      <td>2019-09-25 00:47:34.714526</td>\n",
              "      <td>566241000</td>\n",
              "      <td>0</td>\n",
              "      <td>0.0</td>\n",
              "      <td>103.687757</td>\n",
              "      <td>1.235233</td>\n",
              "      <td>178.6</td>\n",
              "      <td>48</td>\n",
              "      <td>45</td>\n",
              "      <td>A</td>\n",
              "    </tr>\n",
              "    <tr>\n",
              "      <th>1</th>\n",
              "      <td>2019-09-25 01:17:34.747775</td>\n",
              "      <td>566241000</td>\n",
              "      <td>0</td>\n",
              "      <td>0.0</td>\n",
              "      <td>103.687773</td>\n",
              "      <td>1.235203</td>\n",
              "      <td>178.6</td>\n",
              "      <td>49</td>\n",
              "      <td>45</td>\n",
              "      <td>A</td>\n",
              "    </tr>\n",
              "    <tr>\n",
              "      <th>2</th>\n",
              "      <td>2019-09-25 01:35:34.277209</td>\n",
              "      <td>566241000</td>\n",
              "      <td>0</td>\n",
              "      <td>0.0</td>\n",
              "      <td>103.687742</td>\n",
              "      <td>1.235223</td>\n",
              "      <td>178.6</td>\n",
              "      <td>49</td>\n",
              "      <td>45</td>\n",
              "      <td>A</td>\n",
              "    </tr>\n",
              "    <tr>\n",
              "      <th>3</th>\n",
              "      <td>2019-09-25 02:47:34.752767</td>\n",
              "      <td>566241000</td>\n",
              "      <td>0</td>\n",
              "      <td>0.0</td>\n",
              "      <td>103.687763</td>\n",
              "      <td>1.235233</td>\n",
              "      <td>178.6</td>\n",
              "      <td>49</td>\n",
              "      <td>45</td>\n",
              "      <td>A</td>\n",
              "    </tr>\n",
              "    <tr>\n",
              "      <th>4</th>\n",
              "      <td>2019-09-25 03:05:34.466400</td>\n",
              "      <td>566241000</td>\n",
              "      <td>0</td>\n",
              "      <td>0.0</td>\n",
              "      <td>103.687790</td>\n",
              "      <td>1.235210</td>\n",
              "      <td>178.6</td>\n",
              "      <td>49</td>\n",
              "      <td>45</td>\n",
              "      <td>A</td>\n",
              "    </tr>\n",
              "    <tr>\n",
              "      <th>...</th>\n",
              "      <td>...</td>\n",
              "      <td>...</td>\n",
              "      <td>...</td>\n",
              "      <td>...</td>\n",
              "      <td>...</td>\n",
              "      <td>...</td>\n",
              "      <td>...</td>\n",
              "      <td>...</td>\n",
              "      <td>...</td>\n",
              "      <td>...</td>\n",
              "    </tr>\n",
              "    <tr>\n",
              "      <th>2783768</th>\n",
              "      <td>2019-09-27 19:11:31.041697</td>\n",
              "      <td>248357000</td>\n",
              "      <td>0</td>\n",
              "      <td>16.3</td>\n",
              "      <td>103.972527</td>\n",
              "      <td>1.231805</td>\n",
              "      <td>82.1</td>\n",
              "      <td>83</td>\n",
              "      <td>29</td>\n",
              "      <td>A</td>\n",
              "    </tr>\n",
              "    <tr>\n",
              "      <th>2783769</th>\n",
              "      <td>2019-09-27 19:12:31.040949</td>\n",
              "      <td>248357000</td>\n",
              "      <td>0</td>\n",
              "      <td>16.3</td>\n",
              "      <td>103.977030</td>\n",
              "      <td>1.232343</td>\n",
              "      <td>82.9</td>\n",
              "      <td>82</td>\n",
              "      <td>29</td>\n",
              "      <td>A</td>\n",
              "    </tr>\n",
              "    <tr>\n",
              "      <th>2783770</th>\n",
              "      <td>2019-09-27 19:14:54.426594</td>\n",
              "      <td>248357000</td>\n",
              "      <td>0</td>\n",
              "      <td>16.2</td>\n",
              "      <td>103.987682</td>\n",
              "      <td>1.233683</td>\n",
              "      <td>83.1</td>\n",
              "      <td>82</td>\n",
              "      <td>52</td>\n",
              "      <td>A</td>\n",
              "    </tr>\n",
              "    <tr>\n",
              "      <th>2783771</th>\n",
              "      <td>2019-09-27 19:16:19.015192</td>\n",
              "      <td>248357000</td>\n",
              "      <td>0</td>\n",
              "      <td>16.1</td>\n",
              "      <td>103.994020</td>\n",
              "      <td>1.234497</td>\n",
              "      <td>82.8</td>\n",
              "      <td>82</td>\n",
              "      <td>17</td>\n",
              "      <td>A</td>\n",
              "    </tr>\n",
              "    <tr>\n",
              "      <th>2783772</th>\n",
              "      <td>2019-09-27 19:23:17.939724</td>\n",
              "      <td>248357000</td>\n",
              "      <td>0</td>\n",
              "      <td>15.8</td>\n",
              "      <td>104.024688</td>\n",
              "      <td>1.238630</td>\n",
              "      <td>82.3</td>\n",
              "      <td>83</td>\n",
              "      <td>16</td>\n",
              "      <td>A</td>\n",
              "    </tr>\n",
              "  </tbody>\n",
              "</table>\n",
              "<p>2781826 rows × 10 columns</p>\n",
              "</div>\n",
              "      <button class=\"colab-df-convert\" onclick=\"convertToInteractive('df-2546d129-5ec3-492a-a25d-36bb677a4bee')\"\n",
              "              title=\"Convert this dataframe to an interactive table.\"\n",
              "              style=\"display:none;\">\n",
              "        \n",
              "  <svg xmlns=\"http://www.w3.org/2000/svg\" height=\"24px\"viewBox=\"0 0 24 24\"\n",
              "       width=\"24px\">\n",
              "    <path d=\"M0 0h24v24H0V0z\" fill=\"none\"/>\n",
              "    <path d=\"M18.56 5.44l.94 2.06.94-2.06 2.06-.94-2.06-.94-.94-2.06-.94 2.06-2.06.94zm-11 1L8.5 8.5l.94-2.06 2.06-.94-2.06-.94L8.5 2.5l-.94 2.06-2.06.94zm10 10l.94 2.06.94-2.06 2.06-.94-2.06-.94-.94-2.06-.94 2.06-2.06.94z\"/><path d=\"M17.41 7.96l-1.37-1.37c-.4-.4-.92-.59-1.43-.59-.52 0-1.04.2-1.43.59L10.3 9.45l-7.72 7.72c-.78.78-.78 2.05 0 2.83L4 21.41c.39.39.9.59 1.41.59.51 0 1.02-.2 1.41-.59l7.78-7.78 2.81-2.81c.8-.78.8-2.07 0-2.86zM5.41 20L4 18.59l7.72-7.72 1.47 1.35L5.41 20z\"/>\n",
              "  </svg>\n",
              "      </button>\n",
              "      \n",
              "  <style>\n",
              "    .colab-df-container {\n",
              "      display:flex;\n",
              "      flex-wrap:wrap;\n",
              "      gap: 12px;\n",
              "    }\n",
              "\n",
              "    .colab-df-convert {\n",
              "      background-color: #E8F0FE;\n",
              "      border: none;\n",
              "      border-radius: 50%;\n",
              "      cursor: pointer;\n",
              "      display: none;\n",
              "      fill: #1967D2;\n",
              "      height: 32px;\n",
              "      padding: 0 0 0 0;\n",
              "      width: 32px;\n",
              "    }\n",
              "\n",
              "    .colab-df-convert:hover {\n",
              "      background-color: #E2EBFA;\n",
              "      box-shadow: 0px 1px 2px rgba(60, 64, 67, 0.3), 0px 1px 3px 1px rgba(60, 64, 67, 0.15);\n",
              "      fill: #174EA6;\n",
              "    }\n",
              "\n",
              "    [theme=dark] .colab-df-convert {\n",
              "      background-color: #3B4455;\n",
              "      fill: #D2E3FC;\n",
              "    }\n",
              "\n",
              "    [theme=dark] .colab-df-convert:hover {\n",
              "      background-color: #434B5C;\n",
              "      box-shadow: 0px 1px 3px 1px rgba(0, 0, 0, 0.15);\n",
              "      filter: drop-shadow(0px 1px 2px rgba(0, 0, 0, 0.3));\n",
              "      fill: #FFFFFF;\n",
              "    }\n",
              "  </style>\n",
              "\n",
              "      <script>\n",
              "        const buttonEl =\n",
              "          document.querySelector('#df-2546d129-5ec3-492a-a25d-36bb677a4bee button.colab-df-convert');\n",
              "        buttonEl.style.display =\n",
              "          google.colab.kernel.accessAllowed ? 'block' : 'none';\n",
              "\n",
              "        async function convertToInteractive(key) {\n",
              "          const element = document.querySelector('#df-2546d129-5ec3-492a-a25d-36bb677a4bee');\n",
              "          const dataTable =\n",
              "            await google.colab.kernel.invokeFunction('convertToInteractive',\n",
              "                                                     [key], {});\n",
              "          if (!dataTable) return;\n",
              "\n",
              "          const docLinkHtml = 'Like what you see? Visit the ' +\n",
              "            '<a target=\"_blank\" href=https://colab.research.google.com/notebooks/data_table.ipynb>data table notebook</a>'\n",
              "            + ' to learn more about interactive tables.';\n",
              "          element.innerHTML = '';\n",
              "          dataTable['output_type'] = 'display_data';\n",
              "          await google.colab.output.renderOutput(dataTable, element);\n",
              "          const docLink = document.createElement('div');\n",
              "          docLink.innerHTML = docLinkHtml;\n",
              "          element.appendChild(docLink);\n",
              "        }\n",
              "      </script>\n",
              "    </div>\n",
              "  </div>\n",
              "  "
            ]
          },
          "metadata": {},
          "execution_count": 19
        }
      ]
    },
    {
      "cell_type": "code",
      "source": [
        "# filter data within Straits of Malacca and Singapore only\n",
        "all_data=all_data[(((all_data['Longitude']>=103.4525)&(all_data['Longitude']<=104.3689))&((all_data['Latitude']>=1.1354)&(all_data['Latitude']<=1.6443)))|(((all_data['Longitude']>=98.025)&(all_data['Longitude']<=103.5121))&((all_data['Latitude']>=1.2107)&(all_data['Latitude']<=6.535)))]    \n",
        "all_data\n"
      ],
      "metadata": {
        "colab": {
          "base_uri": "https://localhost:8080/",
          "height": 641
        },
        "id": "BFqtXpL8uOq2",
        "outputId": "7319bb77-426b-4345-9ce9-217d0dc1a50e"
      },
      "execution_count": 20,
      "outputs": [
        {
          "output_type": "execute_result",
          "data": {
            "text/plain": [
              "                          Date Time  MMSI Number  Rate of Turn  \\\n",
              "0        2019-09-25 00:47:34.714526    566241000             0   \n",
              "1        2019-09-25 01:17:34.747775    566241000             0   \n",
              "2        2019-09-25 01:35:34.277209    566241000             0   \n",
              "3        2019-09-25 02:47:34.752767    566241000             0   \n",
              "4        2019-09-25 03:05:34.466400    566241000             0   \n",
              "...                             ...          ...           ...   \n",
              "2783768  2019-09-27 19:11:31.041697    248357000             0   \n",
              "2783769  2019-09-27 19:12:31.040949    248357000             0   \n",
              "2783770  2019-09-27 19:14:54.426594    248357000             0   \n",
              "2783771  2019-09-27 19:16:19.015192    248357000             0   \n",
              "2783772  2019-09-27 19:23:17.939724    248357000             0   \n",
              "\n",
              "         Speed Over Ground   Longitude  Latitude  Course Over Ground  \\\n",
              "0                      0.0  103.687757  1.235233               178.6   \n",
              "1                      0.0  103.687773  1.235203               178.6   \n",
              "2                      0.0  103.687742  1.235223               178.6   \n",
              "3                      0.0  103.687763  1.235233               178.6   \n",
              "4                      0.0  103.687790  1.235210               178.6   \n",
              "...                    ...         ...       ...                 ...   \n",
              "2783768               16.3  103.972527  1.231805                82.1   \n",
              "2783769               16.3  103.977030  1.232343                82.9   \n",
              "2783770               16.2  103.987682  1.233683                83.1   \n",
              "2783771               16.1  103.994020  1.234497                82.8   \n",
              "2783772               15.8  104.024688  1.238630                82.3   \n",
              "\n",
              "         Heading Angle  Timestamp Channel of AIS  \n",
              "0                   48         45              A  \n",
              "1                   49         45              A  \n",
              "2                   49         45              A  \n",
              "3                   49         45              A  \n",
              "4                   49         45              A  \n",
              "...                ...        ...            ...  \n",
              "2783768             83         29              A  \n",
              "2783769             82         29              A  \n",
              "2783770             82         52              A  \n",
              "2783771             82         17              A  \n",
              "2783772             83         16              A  \n",
              "\n",
              "[2679441 rows x 10 columns]"
            ],
            "text/html": [
              "\n",
              "  <div id=\"df-bb5e4e47-f2aa-454f-a46b-ccb5cee2bfc4\">\n",
              "    <div class=\"colab-df-container\">\n",
              "      <div>\n",
              "<style scoped>\n",
              "    .dataframe tbody tr th:only-of-type {\n",
              "        vertical-align: middle;\n",
              "    }\n",
              "\n",
              "    .dataframe tbody tr th {\n",
              "        vertical-align: top;\n",
              "    }\n",
              "\n",
              "    .dataframe thead th {\n",
              "        text-align: right;\n",
              "    }\n",
              "</style>\n",
              "<table border=\"1\" class=\"dataframe\">\n",
              "  <thead>\n",
              "    <tr style=\"text-align: right;\">\n",
              "      <th></th>\n",
              "      <th>Date Time</th>\n",
              "      <th>MMSI Number</th>\n",
              "      <th>Rate of Turn</th>\n",
              "      <th>Speed Over Ground</th>\n",
              "      <th>Longitude</th>\n",
              "      <th>Latitude</th>\n",
              "      <th>Course Over Ground</th>\n",
              "      <th>Heading Angle</th>\n",
              "      <th>Timestamp</th>\n",
              "      <th>Channel of AIS</th>\n",
              "    </tr>\n",
              "  </thead>\n",
              "  <tbody>\n",
              "    <tr>\n",
              "      <th>0</th>\n",
              "      <td>2019-09-25 00:47:34.714526</td>\n",
              "      <td>566241000</td>\n",
              "      <td>0</td>\n",
              "      <td>0.0</td>\n",
              "      <td>103.687757</td>\n",
              "      <td>1.235233</td>\n",
              "      <td>178.6</td>\n",
              "      <td>48</td>\n",
              "      <td>45</td>\n",
              "      <td>A</td>\n",
              "    </tr>\n",
              "    <tr>\n",
              "      <th>1</th>\n",
              "      <td>2019-09-25 01:17:34.747775</td>\n",
              "      <td>566241000</td>\n",
              "      <td>0</td>\n",
              "      <td>0.0</td>\n",
              "      <td>103.687773</td>\n",
              "      <td>1.235203</td>\n",
              "      <td>178.6</td>\n",
              "      <td>49</td>\n",
              "      <td>45</td>\n",
              "      <td>A</td>\n",
              "    </tr>\n",
              "    <tr>\n",
              "      <th>2</th>\n",
              "      <td>2019-09-25 01:35:34.277209</td>\n",
              "      <td>566241000</td>\n",
              "      <td>0</td>\n",
              "      <td>0.0</td>\n",
              "      <td>103.687742</td>\n",
              "      <td>1.235223</td>\n",
              "      <td>178.6</td>\n",
              "      <td>49</td>\n",
              "      <td>45</td>\n",
              "      <td>A</td>\n",
              "    </tr>\n",
              "    <tr>\n",
              "      <th>3</th>\n",
              "      <td>2019-09-25 02:47:34.752767</td>\n",
              "      <td>566241000</td>\n",
              "      <td>0</td>\n",
              "      <td>0.0</td>\n",
              "      <td>103.687763</td>\n",
              "      <td>1.235233</td>\n",
              "      <td>178.6</td>\n",
              "      <td>49</td>\n",
              "      <td>45</td>\n",
              "      <td>A</td>\n",
              "    </tr>\n",
              "    <tr>\n",
              "      <th>4</th>\n",
              "      <td>2019-09-25 03:05:34.466400</td>\n",
              "      <td>566241000</td>\n",
              "      <td>0</td>\n",
              "      <td>0.0</td>\n",
              "      <td>103.687790</td>\n",
              "      <td>1.235210</td>\n",
              "      <td>178.6</td>\n",
              "      <td>49</td>\n",
              "      <td>45</td>\n",
              "      <td>A</td>\n",
              "    </tr>\n",
              "    <tr>\n",
              "      <th>...</th>\n",
              "      <td>...</td>\n",
              "      <td>...</td>\n",
              "      <td>...</td>\n",
              "      <td>...</td>\n",
              "      <td>...</td>\n",
              "      <td>...</td>\n",
              "      <td>...</td>\n",
              "      <td>...</td>\n",
              "      <td>...</td>\n",
              "      <td>...</td>\n",
              "    </tr>\n",
              "    <tr>\n",
              "      <th>2783768</th>\n",
              "      <td>2019-09-27 19:11:31.041697</td>\n",
              "      <td>248357000</td>\n",
              "      <td>0</td>\n",
              "      <td>16.3</td>\n",
              "      <td>103.972527</td>\n",
              "      <td>1.231805</td>\n",
              "      <td>82.1</td>\n",
              "      <td>83</td>\n",
              "      <td>29</td>\n",
              "      <td>A</td>\n",
              "    </tr>\n",
              "    <tr>\n",
              "      <th>2783769</th>\n",
              "      <td>2019-09-27 19:12:31.040949</td>\n",
              "      <td>248357000</td>\n",
              "      <td>0</td>\n",
              "      <td>16.3</td>\n",
              "      <td>103.977030</td>\n",
              "      <td>1.232343</td>\n",
              "      <td>82.9</td>\n",
              "      <td>82</td>\n",
              "      <td>29</td>\n",
              "      <td>A</td>\n",
              "    </tr>\n",
              "    <tr>\n",
              "      <th>2783770</th>\n",
              "      <td>2019-09-27 19:14:54.426594</td>\n",
              "      <td>248357000</td>\n",
              "      <td>0</td>\n",
              "      <td>16.2</td>\n",
              "      <td>103.987682</td>\n",
              "      <td>1.233683</td>\n",
              "      <td>83.1</td>\n",
              "      <td>82</td>\n",
              "      <td>52</td>\n",
              "      <td>A</td>\n",
              "    </tr>\n",
              "    <tr>\n",
              "      <th>2783771</th>\n",
              "      <td>2019-09-27 19:16:19.015192</td>\n",
              "      <td>248357000</td>\n",
              "      <td>0</td>\n",
              "      <td>16.1</td>\n",
              "      <td>103.994020</td>\n",
              "      <td>1.234497</td>\n",
              "      <td>82.8</td>\n",
              "      <td>82</td>\n",
              "      <td>17</td>\n",
              "      <td>A</td>\n",
              "    </tr>\n",
              "    <tr>\n",
              "      <th>2783772</th>\n",
              "      <td>2019-09-27 19:23:17.939724</td>\n",
              "      <td>248357000</td>\n",
              "      <td>0</td>\n",
              "      <td>15.8</td>\n",
              "      <td>104.024688</td>\n",
              "      <td>1.238630</td>\n",
              "      <td>82.3</td>\n",
              "      <td>83</td>\n",
              "      <td>16</td>\n",
              "      <td>A</td>\n",
              "    </tr>\n",
              "  </tbody>\n",
              "</table>\n",
              "<p>2679441 rows × 10 columns</p>\n",
              "</div>\n",
              "      <button class=\"colab-df-convert\" onclick=\"convertToInteractive('df-bb5e4e47-f2aa-454f-a46b-ccb5cee2bfc4')\"\n",
              "              title=\"Convert this dataframe to an interactive table.\"\n",
              "              style=\"display:none;\">\n",
              "        \n",
              "  <svg xmlns=\"http://www.w3.org/2000/svg\" height=\"24px\"viewBox=\"0 0 24 24\"\n",
              "       width=\"24px\">\n",
              "    <path d=\"M0 0h24v24H0V0z\" fill=\"none\"/>\n",
              "    <path d=\"M18.56 5.44l.94 2.06.94-2.06 2.06-.94-2.06-.94-.94-2.06-.94 2.06-2.06.94zm-11 1L8.5 8.5l.94-2.06 2.06-.94-2.06-.94L8.5 2.5l-.94 2.06-2.06.94zm10 10l.94 2.06.94-2.06 2.06-.94-2.06-.94-.94-2.06-.94 2.06-2.06.94z\"/><path d=\"M17.41 7.96l-1.37-1.37c-.4-.4-.92-.59-1.43-.59-.52 0-1.04.2-1.43.59L10.3 9.45l-7.72 7.72c-.78.78-.78 2.05 0 2.83L4 21.41c.39.39.9.59 1.41.59.51 0 1.02-.2 1.41-.59l7.78-7.78 2.81-2.81c.8-.78.8-2.07 0-2.86zM5.41 20L4 18.59l7.72-7.72 1.47 1.35L5.41 20z\"/>\n",
              "  </svg>\n",
              "      </button>\n",
              "      \n",
              "  <style>\n",
              "    .colab-df-container {\n",
              "      display:flex;\n",
              "      flex-wrap:wrap;\n",
              "      gap: 12px;\n",
              "    }\n",
              "\n",
              "    .colab-df-convert {\n",
              "      background-color: #E8F0FE;\n",
              "      border: none;\n",
              "      border-radius: 50%;\n",
              "      cursor: pointer;\n",
              "      display: none;\n",
              "      fill: #1967D2;\n",
              "      height: 32px;\n",
              "      padding: 0 0 0 0;\n",
              "      width: 32px;\n",
              "    }\n",
              "\n",
              "    .colab-df-convert:hover {\n",
              "      background-color: #E2EBFA;\n",
              "      box-shadow: 0px 1px 2px rgba(60, 64, 67, 0.3), 0px 1px 3px 1px rgba(60, 64, 67, 0.15);\n",
              "      fill: #174EA6;\n",
              "    }\n",
              "\n",
              "    [theme=dark] .colab-df-convert {\n",
              "      background-color: #3B4455;\n",
              "      fill: #D2E3FC;\n",
              "    }\n",
              "\n",
              "    [theme=dark] .colab-df-convert:hover {\n",
              "      background-color: #434B5C;\n",
              "      box-shadow: 0px 1px 3px 1px rgba(0, 0, 0, 0.15);\n",
              "      filter: drop-shadow(0px 1px 2px rgba(0, 0, 0, 0.3));\n",
              "      fill: #FFFFFF;\n",
              "    }\n",
              "  </style>\n",
              "\n",
              "      <script>\n",
              "        const buttonEl =\n",
              "          document.querySelector('#df-bb5e4e47-f2aa-454f-a46b-ccb5cee2bfc4 button.colab-df-convert');\n",
              "        buttonEl.style.display =\n",
              "          google.colab.kernel.accessAllowed ? 'block' : 'none';\n",
              "\n",
              "        async function convertToInteractive(key) {\n",
              "          const element = document.querySelector('#df-bb5e4e47-f2aa-454f-a46b-ccb5cee2bfc4');\n",
              "          const dataTable =\n",
              "            await google.colab.kernel.invokeFunction('convertToInteractive',\n",
              "                                                     [key], {});\n",
              "          if (!dataTable) return;\n",
              "\n",
              "          const docLinkHtml = 'Like what you see? Visit the ' +\n",
              "            '<a target=\"_blank\" href=https://colab.research.google.com/notebooks/data_table.ipynb>data table notebook</a>'\n",
              "            + ' to learn more about interactive tables.';\n",
              "          element.innerHTML = '';\n",
              "          dataTable['output_type'] = 'display_data';\n",
              "          await google.colab.output.renderOutput(dataTable, element);\n",
              "          const docLink = document.createElement('div');\n",
              "          docLink.innerHTML = docLinkHtml;\n",
              "          element.appendChild(docLink);\n",
              "        }\n",
              "      </script>\n",
              "    </div>\n",
              "  </div>\n",
              "  "
            ]
          },
          "metadata": {},
          "execution_count": 20
        }
      ]
    },
    {
      "cell_type": "code",
      "source": [
        "all_data.info()\n",
        "all_data.shape"
      ],
      "metadata": {
        "colab": {
          "base_uri": "https://localhost:8080/"
        },
        "id": "xWWnVIgUTwYO",
        "outputId": "f9befccf-0fac-4fcb-8235-5cba7d512c32"
      },
      "execution_count": 21,
      "outputs": [
        {
          "output_type": "stream",
          "name": "stdout",
          "text": [
            "<class 'pandas.core.frame.DataFrame'>\n",
            "Int64Index: 2679441 entries, 0 to 2783772\n",
            "Data columns (total 10 columns):\n",
            " #   Column              Dtype  \n",
            "---  ------              -----  \n",
            " 0   Date Time           object \n",
            " 1   MMSI Number         int64  \n",
            " 2   Rate of Turn        int64  \n",
            " 3   Speed Over Ground   float64\n",
            " 4   Longitude           float64\n",
            " 5   Latitude            float64\n",
            " 6   Course Over Ground  float64\n",
            " 7   Heading Angle       int64  \n",
            " 8   Timestamp           int64  \n",
            " 9   Channel of AIS      object \n",
            "dtypes: float64(4), int64(4), object(2)\n",
            "memory usage: 224.9+ MB\n"
          ]
        },
        {
          "output_type": "execute_result",
          "data": {
            "text/plain": [
              "(2679441, 10)"
            ]
          },
          "metadata": {},
          "execution_count": 21
        }
      ]
    },
    {
      "cell_type": "code",
      "source": [
        "#filter speed (in knots)\n",
        "all_data=all_data[(all_data['Speed Over Ground']<=216)]\n",
        "all_data"
      ],
      "metadata": {
        "colab": {
          "base_uri": "https://localhost:8080/",
          "height": 641
        },
        "id": "REPU0ciG-UYr",
        "outputId": "b0523138-61be-46f2-dde5-0be10d9e5624"
      },
      "execution_count": 22,
      "outputs": [
        {
          "output_type": "execute_result",
          "data": {
            "text/plain": [
              "                          Date Time  MMSI Number  Rate of Turn  \\\n",
              "0        2019-09-25 00:47:34.714526    566241000             0   \n",
              "1        2019-09-25 01:17:34.747775    566241000             0   \n",
              "2        2019-09-25 01:35:34.277209    566241000             0   \n",
              "3        2019-09-25 02:47:34.752767    566241000             0   \n",
              "4        2019-09-25 03:05:34.466400    566241000             0   \n",
              "...                             ...          ...           ...   \n",
              "2783768  2019-09-27 19:11:31.041697    248357000             0   \n",
              "2783769  2019-09-27 19:12:31.040949    248357000             0   \n",
              "2783770  2019-09-27 19:14:54.426594    248357000             0   \n",
              "2783771  2019-09-27 19:16:19.015192    248357000             0   \n",
              "2783772  2019-09-27 19:23:17.939724    248357000             0   \n",
              "\n",
              "         Speed Over Ground   Longitude  Latitude  Course Over Ground  \\\n",
              "0                      0.0  103.687757  1.235233               178.6   \n",
              "1                      0.0  103.687773  1.235203               178.6   \n",
              "2                      0.0  103.687742  1.235223               178.6   \n",
              "3                      0.0  103.687763  1.235233               178.6   \n",
              "4                      0.0  103.687790  1.235210               178.6   \n",
              "...                    ...         ...       ...                 ...   \n",
              "2783768               16.3  103.972527  1.231805                82.1   \n",
              "2783769               16.3  103.977030  1.232343                82.9   \n",
              "2783770               16.2  103.987682  1.233683                83.1   \n",
              "2783771               16.1  103.994020  1.234497                82.8   \n",
              "2783772               15.8  104.024688  1.238630                82.3   \n",
              "\n",
              "         Heading Angle  Timestamp Channel of AIS  \n",
              "0                   48         45              A  \n",
              "1                   49         45              A  \n",
              "2                   49         45              A  \n",
              "3                   49         45              A  \n",
              "4                   49         45              A  \n",
              "...                ...        ...            ...  \n",
              "2783768             83         29              A  \n",
              "2783769             82         29              A  \n",
              "2783770             82         52              A  \n",
              "2783771             82         17              A  \n",
              "2783772             83         16              A  \n",
              "\n",
              "[2679441 rows x 10 columns]"
            ],
            "text/html": [
              "\n",
              "  <div id=\"df-98547f5b-1457-4f99-a423-6ca716abeffe\">\n",
              "    <div class=\"colab-df-container\">\n",
              "      <div>\n",
              "<style scoped>\n",
              "    .dataframe tbody tr th:only-of-type {\n",
              "        vertical-align: middle;\n",
              "    }\n",
              "\n",
              "    .dataframe tbody tr th {\n",
              "        vertical-align: top;\n",
              "    }\n",
              "\n",
              "    .dataframe thead th {\n",
              "        text-align: right;\n",
              "    }\n",
              "</style>\n",
              "<table border=\"1\" class=\"dataframe\">\n",
              "  <thead>\n",
              "    <tr style=\"text-align: right;\">\n",
              "      <th></th>\n",
              "      <th>Date Time</th>\n",
              "      <th>MMSI Number</th>\n",
              "      <th>Rate of Turn</th>\n",
              "      <th>Speed Over Ground</th>\n",
              "      <th>Longitude</th>\n",
              "      <th>Latitude</th>\n",
              "      <th>Course Over Ground</th>\n",
              "      <th>Heading Angle</th>\n",
              "      <th>Timestamp</th>\n",
              "      <th>Channel of AIS</th>\n",
              "    </tr>\n",
              "  </thead>\n",
              "  <tbody>\n",
              "    <tr>\n",
              "      <th>0</th>\n",
              "      <td>2019-09-25 00:47:34.714526</td>\n",
              "      <td>566241000</td>\n",
              "      <td>0</td>\n",
              "      <td>0.0</td>\n",
              "      <td>103.687757</td>\n",
              "      <td>1.235233</td>\n",
              "      <td>178.6</td>\n",
              "      <td>48</td>\n",
              "      <td>45</td>\n",
              "      <td>A</td>\n",
              "    </tr>\n",
              "    <tr>\n",
              "      <th>1</th>\n",
              "      <td>2019-09-25 01:17:34.747775</td>\n",
              "      <td>566241000</td>\n",
              "      <td>0</td>\n",
              "      <td>0.0</td>\n",
              "      <td>103.687773</td>\n",
              "      <td>1.235203</td>\n",
              "      <td>178.6</td>\n",
              "      <td>49</td>\n",
              "      <td>45</td>\n",
              "      <td>A</td>\n",
              "    </tr>\n",
              "    <tr>\n",
              "      <th>2</th>\n",
              "      <td>2019-09-25 01:35:34.277209</td>\n",
              "      <td>566241000</td>\n",
              "      <td>0</td>\n",
              "      <td>0.0</td>\n",
              "      <td>103.687742</td>\n",
              "      <td>1.235223</td>\n",
              "      <td>178.6</td>\n",
              "      <td>49</td>\n",
              "      <td>45</td>\n",
              "      <td>A</td>\n",
              "    </tr>\n",
              "    <tr>\n",
              "      <th>3</th>\n",
              "      <td>2019-09-25 02:47:34.752767</td>\n",
              "      <td>566241000</td>\n",
              "      <td>0</td>\n",
              "      <td>0.0</td>\n",
              "      <td>103.687763</td>\n",
              "      <td>1.235233</td>\n",
              "      <td>178.6</td>\n",
              "      <td>49</td>\n",
              "      <td>45</td>\n",
              "      <td>A</td>\n",
              "    </tr>\n",
              "    <tr>\n",
              "      <th>4</th>\n",
              "      <td>2019-09-25 03:05:34.466400</td>\n",
              "      <td>566241000</td>\n",
              "      <td>0</td>\n",
              "      <td>0.0</td>\n",
              "      <td>103.687790</td>\n",
              "      <td>1.235210</td>\n",
              "      <td>178.6</td>\n",
              "      <td>49</td>\n",
              "      <td>45</td>\n",
              "      <td>A</td>\n",
              "    </tr>\n",
              "    <tr>\n",
              "      <th>...</th>\n",
              "      <td>...</td>\n",
              "      <td>...</td>\n",
              "      <td>...</td>\n",
              "      <td>...</td>\n",
              "      <td>...</td>\n",
              "      <td>...</td>\n",
              "      <td>...</td>\n",
              "      <td>...</td>\n",
              "      <td>...</td>\n",
              "      <td>...</td>\n",
              "    </tr>\n",
              "    <tr>\n",
              "      <th>2783768</th>\n",
              "      <td>2019-09-27 19:11:31.041697</td>\n",
              "      <td>248357000</td>\n",
              "      <td>0</td>\n",
              "      <td>16.3</td>\n",
              "      <td>103.972527</td>\n",
              "      <td>1.231805</td>\n",
              "      <td>82.1</td>\n",
              "      <td>83</td>\n",
              "      <td>29</td>\n",
              "      <td>A</td>\n",
              "    </tr>\n",
              "    <tr>\n",
              "      <th>2783769</th>\n",
              "      <td>2019-09-27 19:12:31.040949</td>\n",
              "      <td>248357000</td>\n",
              "      <td>0</td>\n",
              "      <td>16.3</td>\n",
              "      <td>103.977030</td>\n",
              "      <td>1.232343</td>\n",
              "      <td>82.9</td>\n",
              "      <td>82</td>\n",
              "      <td>29</td>\n",
              "      <td>A</td>\n",
              "    </tr>\n",
              "    <tr>\n",
              "      <th>2783770</th>\n",
              "      <td>2019-09-27 19:14:54.426594</td>\n",
              "      <td>248357000</td>\n",
              "      <td>0</td>\n",
              "      <td>16.2</td>\n",
              "      <td>103.987682</td>\n",
              "      <td>1.233683</td>\n",
              "      <td>83.1</td>\n",
              "      <td>82</td>\n",
              "      <td>52</td>\n",
              "      <td>A</td>\n",
              "    </tr>\n",
              "    <tr>\n",
              "      <th>2783771</th>\n",
              "      <td>2019-09-27 19:16:19.015192</td>\n",
              "      <td>248357000</td>\n",
              "      <td>0</td>\n",
              "      <td>16.1</td>\n",
              "      <td>103.994020</td>\n",
              "      <td>1.234497</td>\n",
              "      <td>82.8</td>\n",
              "      <td>82</td>\n",
              "      <td>17</td>\n",
              "      <td>A</td>\n",
              "    </tr>\n",
              "    <tr>\n",
              "      <th>2783772</th>\n",
              "      <td>2019-09-27 19:23:17.939724</td>\n",
              "      <td>248357000</td>\n",
              "      <td>0</td>\n",
              "      <td>15.8</td>\n",
              "      <td>104.024688</td>\n",
              "      <td>1.238630</td>\n",
              "      <td>82.3</td>\n",
              "      <td>83</td>\n",
              "      <td>16</td>\n",
              "      <td>A</td>\n",
              "    </tr>\n",
              "  </tbody>\n",
              "</table>\n",
              "<p>2679441 rows × 10 columns</p>\n",
              "</div>\n",
              "      <button class=\"colab-df-convert\" onclick=\"convertToInteractive('df-98547f5b-1457-4f99-a423-6ca716abeffe')\"\n",
              "              title=\"Convert this dataframe to an interactive table.\"\n",
              "              style=\"display:none;\">\n",
              "        \n",
              "  <svg xmlns=\"http://www.w3.org/2000/svg\" height=\"24px\"viewBox=\"0 0 24 24\"\n",
              "       width=\"24px\">\n",
              "    <path d=\"M0 0h24v24H0V0z\" fill=\"none\"/>\n",
              "    <path d=\"M18.56 5.44l.94 2.06.94-2.06 2.06-.94-2.06-.94-.94-2.06-.94 2.06-2.06.94zm-11 1L8.5 8.5l.94-2.06 2.06-.94-2.06-.94L8.5 2.5l-.94 2.06-2.06.94zm10 10l.94 2.06.94-2.06 2.06-.94-2.06-.94-.94-2.06-.94 2.06-2.06.94z\"/><path d=\"M17.41 7.96l-1.37-1.37c-.4-.4-.92-.59-1.43-.59-.52 0-1.04.2-1.43.59L10.3 9.45l-7.72 7.72c-.78.78-.78 2.05 0 2.83L4 21.41c.39.39.9.59 1.41.59.51 0 1.02-.2 1.41-.59l7.78-7.78 2.81-2.81c.8-.78.8-2.07 0-2.86zM5.41 20L4 18.59l7.72-7.72 1.47 1.35L5.41 20z\"/>\n",
              "  </svg>\n",
              "      </button>\n",
              "      \n",
              "  <style>\n",
              "    .colab-df-container {\n",
              "      display:flex;\n",
              "      flex-wrap:wrap;\n",
              "      gap: 12px;\n",
              "    }\n",
              "\n",
              "    .colab-df-convert {\n",
              "      background-color: #E8F0FE;\n",
              "      border: none;\n",
              "      border-radius: 50%;\n",
              "      cursor: pointer;\n",
              "      display: none;\n",
              "      fill: #1967D2;\n",
              "      height: 32px;\n",
              "      padding: 0 0 0 0;\n",
              "      width: 32px;\n",
              "    }\n",
              "\n",
              "    .colab-df-convert:hover {\n",
              "      background-color: #E2EBFA;\n",
              "      box-shadow: 0px 1px 2px rgba(60, 64, 67, 0.3), 0px 1px 3px 1px rgba(60, 64, 67, 0.15);\n",
              "      fill: #174EA6;\n",
              "    }\n",
              "\n",
              "    [theme=dark] .colab-df-convert {\n",
              "      background-color: #3B4455;\n",
              "      fill: #D2E3FC;\n",
              "    }\n",
              "\n",
              "    [theme=dark] .colab-df-convert:hover {\n",
              "      background-color: #434B5C;\n",
              "      box-shadow: 0px 1px 3px 1px rgba(0, 0, 0, 0.15);\n",
              "      filter: drop-shadow(0px 1px 2px rgba(0, 0, 0, 0.3));\n",
              "      fill: #FFFFFF;\n",
              "    }\n",
              "  </style>\n",
              "\n",
              "      <script>\n",
              "        const buttonEl =\n",
              "          document.querySelector('#df-98547f5b-1457-4f99-a423-6ca716abeffe button.colab-df-convert');\n",
              "        buttonEl.style.display =\n",
              "          google.colab.kernel.accessAllowed ? 'block' : 'none';\n",
              "\n",
              "        async function convertToInteractive(key) {\n",
              "          const element = document.querySelector('#df-98547f5b-1457-4f99-a423-6ca716abeffe');\n",
              "          const dataTable =\n",
              "            await google.colab.kernel.invokeFunction('convertToInteractive',\n",
              "                                                     [key], {});\n",
              "          if (!dataTable) return;\n",
              "\n",
              "          const docLinkHtml = 'Like what you see? Visit the ' +\n",
              "            '<a target=\"_blank\" href=https://colab.research.google.com/notebooks/data_table.ipynb>data table notebook</a>'\n",
              "            + ' to learn more about interactive tables.';\n",
              "          element.innerHTML = '';\n",
              "          dataTable['output_type'] = 'display_data';\n",
              "          await google.colab.output.renderOutput(dataTable, element);\n",
              "          const docLink = document.createElement('div');\n",
              "          docLink.innerHTML = docLinkHtml;\n",
              "          element.appendChild(docLink);\n",
              "        }\n",
              "      </script>\n",
              "    </div>\n",
              "  </div>\n",
              "  "
            ]
          },
          "metadata": {},
          "execution_count": 22
        }
      ]
    },
    {
      "cell_type": "code",
      "source": [
        "all_data.to_csv(\"AISdata.csv\")\n",
        "files.download(\"AISdata.csv\")  \n",
        "all_data"
      ],
      "metadata": {
        "colab": {
          "base_uri": "https://localhost:8080/",
          "height": 641
        },
        "id": "KdCL6eB1t_2G",
        "outputId": "e212e066-f02b-48de-8510-3ca500a7feb4"
      },
      "execution_count": 23,
      "outputs": [
        {
          "output_type": "display_data",
          "data": {
            "text/plain": [
              "<IPython.core.display.Javascript object>"
            ],
            "application/javascript": [
              "\n",
              "    async function download(id, filename, size) {\n",
              "      if (!google.colab.kernel.accessAllowed) {\n",
              "        return;\n",
              "      }\n",
              "      const div = document.createElement('div');\n",
              "      const label = document.createElement('label');\n",
              "      label.textContent = `Downloading \"${filename}\": `;\n",
              "      div.appendChild(label);\n",
              "      const progress = document.createElement('progress');\n",
              "      progress.max = size;\n",
              "      div.appendChild(progress);\n",
              "      document.body.appendChild(div);\n",
              "\n",
              "      const buffers = [];\n",
              "      let downloaded = 0;\n",
              "\n",
              "      const channel = await google.colab.kernel.comms.open(id);\n",
              "      // Send a message to notify the kernel that we're ready.\n",
              "      channel.send({})\n",
              "\n",
              "      for await (const message of channel.messages) {\n",
              "        // Send a message to notify the kernel that we're ready.\n",
              "        channel.send({})\n",
              "        if (message.buffers) {\n",
              "          for (const buffer of message.buffers) {\n",
              "            buffers.push(buffer);\n",
              "            downloaded += buffer.byteLength;\n",
              "            progress.value = downloaded;\n",
              "          }\n",
              "        }\n",
              "      }\n",
              "      const blob = new Blob(buffers, {type: 'application/binary'});\n",
              "      const a = document.createElement('a');\n",
              "      a.href = window.URL.createObjectURL(blob);\n",
              "      a.download = filename;\n",
              "      div.appendChild(a);\n",
              "      a.click();\n",
              "      div.remove();\n",
              "    }\n",
              "  "
            ]
          },
          "metadata": {}
        },
        {
          "output_type": "display_data",
          "data": {
            "text/plain": [
              "<IPython.core.display.Javascript object>"
            ],
            "application/javascript": [
              "download(\"download_765dbc9a-8c4e-4db4-b1cf-de6d1f0fe3b5\", \"AISdata.csv\", 254133997)"
            ]
          },
          "metadata": {}
        },
        {
          "output_type": "execute_result",
          "data": {
            "text/plain": [
              "                          Date Time  MMSI Number  Rate of Turn  \\\n",
              "0        2019-09-25 00:47:34.714526    566241000             0   \n",
              "1        2019-09-25 01:17:34.747775    566241000             0   \n",
              "2        2019-09-25 01:35:34.277209    566241000             0   \n",
              "3        2019-09-25 02:47:34.752767    566241000             0   \n",
              "4        2019-09-25 03:05:34.466400    566241000             0   \n",
              "...                             ...          ...           ...   \n",
              "2783768  2019-09-27 19:11:31.041697    248357000             0   \n",
              "2783769  2019-09-27 19:12:31.040949    248357000             0   \n",
              "2783770  2019-09-27 19:14:54.426594    248357000             0   \n",
              "2783771  2019-09-27 19:16:19.015192    248357000             0   \n",
              "2783772  2019-09-27 19:23:17.939724    248357000             0   \n",
              "\n",
              "         Speed Over Ground   Longitude  Latitude  Course Over Ground  \\\n",
              "0                      0.0  103.687757  1.235233               178.6   \n",
              "1                      0.0  103.687773  1.235203               178.6   \n",
              "2                      0.0  103.687742  1.235223               178.6   \n",
              "3                      0.0  103.687763  1.235233               178.6   \n",
              "4                      0.0  103.687790  1.235210               178.6   \n",
              "...                    ...         ...       ...                 ...   \n",
              "2783768               16.3  103.972527  1.231805                82.1   \n",
              "2783769               16.3  103.977030  1.232343                82.9   \n",
              "2783770               16.2  103.987682  1.233683                83.1   \n",
              "2783771               16.1  103.994020  1.234497                82.8   \n",
              "2783772               15.8  104.024688  1.238630                82.3   \n",
              "\n",
              "         Heading Angle  Timestamp Channel of AIS  \n",
              "0                   48         45              A  \n",
              "1                   49         45              A  \n",
              "2                   49         45              A  \n",
              "3                   49         45              A  \n",
              "4                   49         45              A  \n",
              "...                ...        ...            ...  \n",
              "2783768             83         29              A  \n",
              "2783769             82         29              A  \n",
              "2783770             82         52              A  \n",
              "2783771             82         17              A  \n",
              "2783772             83         16              A  \n",
              "\n",
              "[2679441 rows x 10 columns]"
            ],
            "text/html": [
              "\n",
              "  <div id=\"df-fd08d701-5cbd-45e8-966a-460c63f3ddeb\">\n",
              "    <div class=\"colab-df-container\">\n",
              "      <div>\n",
              "<style scoped>\n",
              "    .dataframe tbody tr th:only-of-type {\n",
              "        vertical-align: middle;\n",
              "    }\n",
              "\n",
              "    .dataframe tbody tr th {\n",
              "        vertical-align: top;\n",
              "    }\n",
              "\n",
              "    .dataframe thead th {\n",
              "        text-align: right;\n",
              "    }\n",
              "</style>\n",
              "<table border=\"1\" class=\"dataframe\">\n",
              "  <thead>\n",
              "    <tr style=\"text-align: right;\">\n",
              "      <th></th>\n",
              "      <th>Date Time</th>\n",
              "      <th>MMSI Number</th>\n",
              "      <th>Rate of Turn</th>\n",
              "      <th>Speed Over Ground</th>\n",
              "      <th>Longitude</th>\n",
              "      <th>Latitude</th>\n",
              "      <th>Course Over Ground</th>\n",
              "      <th>Heading Angle</th>\n",
              "      <th>Timestamp</th>\n",
              "      <th>Channel of AIS</th>\n",
              "    </tr>\n",
              "  </thead>\n",
              "  <tbody>\n",
              "    <tr>\n",
              "      <th>0</th>\n",
              "      <td>2019-09-25 00:47:34.714526</td>\n",
              "      <td>566241000</td>\n",
              "      <td>0</td>\n",
              "      <td>0.0</td>\n",
              "      <td>103.687757</td>\n",
              "      <td>1.235233</td>\n",
              "      <td>178.6</td>\n",
              "      <td>48</td>\n",
              "      <td>45</td>\n",
              "      <td>A</td>\n",
              "    </tr>\n",
              "    <tr>\n",
              "      <th>1</th>\n",
              "      <td>2019-09-25 01:17:34.747775</td>\n",
              "      <td>566241000</td>\n",
              "      <td>0</td>\n",
              "      <td>0.0</td>\n",
              "      <td>103.687773</td>\n",
              "      <td>1.235203</td>\n",
              "      <td>178.6</td>\n",
              "      <td>49</td>\n",
              "      <td>45</td>\n",
              "      <td>A</td>\n",
              "    </tr>\n",
              "    <tr>\n",
              "      <th>2</th>\n",
              "      <td>2019-09-25 01:35:34.277209</td>\n",
              "      <td>566241000</td>\n",
              "      <td>0</td>\n",
              "      <td>0.0</td>\n",
              "      <td>103.687742</td>\n",
              "      <td>1.235223</td>\n",
              "      <td>178.6</td>\n",
              "      <td>49</td>\n",
              "      <td>45</td>\n",
              "      <td>A</td>\n",
              "    </tr>\n",
              "    <tr>\n",
              "      <th>3</th>\n",
              "      <td>2019-09-25 02:47:34.752767</td>\n",
              "      <td>566241000</td>\n",
              "      <td>0</td>\n",
              "      <td>0.0</td>\n",
              "      <td>103.687763</td>\n",
              "      <td>1.235233</td>\n",
              "      <td>178.6</td>\n",
              "      <td>49</td>\n",
              "      <td>45</td>\n",
              "      <td>A</td>\n",
              "    </tr>\n",
              "    <tr>\n",
              "      <th>4</th>\n",
              "      <td>2019-09-25 03:05:34.466400</td>\n",
              "      <td>566241000</td>\n",
              "      <td>0</td>\n",
              "      <td>0.0</td>\n",
              "      <td>103.687790</td>\n",
              "      <td>1.235210</td>\n",
              "      <td>178.6</td>\n",
              "      <td>49</td>\n",
              "      <td>45</td>\n",
              "      <td>A</td>\n",
              "    </tr>\n",
              "    <tr>\n",
              "      <th>...</th>\n",
              "      <td>...</td>\n",
              "      <td>...</td>\n",
              "      <td>...</td>\n",
              "      <td>...</td>\n",
              "      <td>...</td>\n",
              "      <td>...</td>\n",
              "      <td>...</td>\n",
              "      <td>...</td>\n",
              "      <td>...</td>\n",
              "      <td>...</td>\n",
              "    </tr>\n",
              "    <tr>\n",
              "      <th>2783768</th>\n",
              "      <td>2019-09-27 19:11:31.041697</td>\n",
              "      <td>248357000</td>\n",
              "      <td>0</td>\n",
              "      <td>16.3</td>\n",
              "      <td>103.972527</td>\n",
              "      <td>1.231805</td>\n",
              "      <td>82.1</td>\n",
              "      <td>83</td>\n",
              "      <td>29</td>\n",
              "      <td>A</td>\n",
              "    </tr>\n",
              "    <tr>\n",
              "      <th>2783769</th>\n",
              "      <td>2019-09-27 19:12:31.040949</td>\n",
              "      <td>248357000</td>\n",
              "      <td>0</td>\n",
              "      <td>16.3</td>\n",
              "      <td>103.977030</td>\n",
              "      <td>1.232343</td>\n",
              "      <td>82.9</td>\n",
              "      <td>82</td>\n",
              "      <td>29</td>\n",
              "      <td>A</td>\n",
              "    </tr>\n",
              "    <tr>\n",
              "      <th>2783770</th>\n",
              "      <td>2019-09-27 19:14:54.426594</td>\n",
              "      <td>248357000</td>\n",
              "      <td>0</td>\n",
              "      <td>16.2</td>\n",
              "      <td>103.987682</td>\n",
              "      <td>1.233683</td>\n",
              "      <td>83.1</td>\n",
              "      <td>82</td>\n",
              "      <td>52</td>\n",
              "      <td>A</td>\n",
              "    </tr>\n",
              "    <tr>\n",
              "      <th>2783771</th>\n",
              "      <td>2019-09-27 19:16:19.015192</td>\n",
              "      <td>248357000</td>\n",
              "      <td>0</td>\n",
              "      <td>16.1</td>\n",
              "      <td>103.994020</td>\n",
              "      <td>1.234497</td>\n",
              "      <td>82.8</td>\n",
              "      <td>82</td>\n",
              "      <td>17</td>\n",
              "      <td>A</td>\n",
              "    </tr>\n",
              "    <tr>\n",
              "      <th>2783772</th>\n",
              "      <td>2019-09-27 19:23:17.939724</td>\n",
              "      <td>248357000</td>\n",
              "      <td>0</td>\n",
              "      <td>15.8</td>\n",
              "      <td>104.024688</td>\n",
              "      <td>1.238630</td>\n",
              "      <td>82.3</td>\n",
              "      <td>83</td>\n",
              "      <td>16</td>\n",
              "      <td>A</td>\n",
              "    </tr>\n",
              "  </tbody>\n",
              "</table>\n",
              "<p>2679441 rows × 10 columns</p>\n",
              "</div>\n",
              "      <button class=\"colab-df-convert\" onclick=\"convertToInteractive('df-fd08d701-5cbd-45e8-966a-460c63f3ddeb')\"\n",
              "              title=\"Convert this dataframe to an interactive table.\"\n",
              "              style=\"display:none;\">\n",
              "        \n",
              "  <svg xmlns=\"http://www.w3.org/2000/svg\" height=\"24px\"viewBox=\"0 0 24 24\"\n",
              "       width=\"24px\">\n",
              "    <path d=\"M0 0h24v24H0V0z\" fill=\"none\"/>\n",
              "    <path d=\"M18.56 5.44l.94 2.06.94-2.06 2.06-.94-2.06-.94-.94-2.06-.94 2.06-2.06.94zm-11 1L8.5 8.5l.94-2.06 2.06-.94-2.06-.94L8.5 2.5l-.94 2.06-2.06.94zm10 10l.94 2.06.94-2.06 2.06-.94-2.06-.94-.94-2.06-.94 2.06-2.06.94z\"/><path d=\"M17.41 7.96l-1.37-1.37c-.4-.4-.92-.59-1.43-.59-.52 0-1.04.2-1.43.59L10.3 9.45l-7.72 7.72c-.78.78-.78 2.05 0 2.83L4 21.41c.39.39.9.59 1.41.59.51 0 1.02-.2 1.41-.59l7.78-7.78 2.81-2.81c.8-.78.8-2.07 0-2.86zM5.41 20L4 18.59l7.72-7.72 1.47 1.35L5.41 20z\"/>\n",
              "  </svg>\n",
              "      </button>\n",
              "      \n",
              "  <style>\n",
              "    .colab-df-container {\n",
              "      display:flex;\n",
              "      flex-wrap:wrap;\n",
              "      gap: 12px;\n",
              "    }\n",
              "\n",
              "    .colab-df-convert {\n",
              "      background-color: #E8F0FE;\n",
              "      border: none;\n",
              "      border-radius: 50%;\n",
              "      cursor: pointer;\n",
              "      display: none;\n",
              "      fill: #1967D2;\n",
              "      height: 32px;\n",
              "      padding: 0 0 0 0;\n",
              "      width: 32px;\n",
              "    }\n",
              "\n",
              "    .colab-df-convert:hover {\n",
              "      background-color: #E2EBFA;\n",
              "      box-shadow: 0px 1px 2px rgba(60, 64, 67, 0.3), 0px 1px 3px 1px rgba(60, 64, 67, 0.15);\n",
              "      fill: #174EA6;\n",
              "    }\n",
              "\n",
              "    [theme=dark] .colab-df-convert {\n",
              "      background-color: #3B4455;\n",
              "      fill: #D2E3FC;\n",
              "    }\n",
              "\n",
              "    [theme=dark] .colab-df-convert:hover {\n",
              "      background-color: #434B5C;\n",
              "      box-shadow: 0px 1px 3px 1px rgba(0, 0, 0, 0.15);\n",
              "      filter: drop-shadow(0px 1px 2px rgba(0, 0, 0, 0.3));\n",
              "      fill: #FFFFFF;\n",
              "    }\n",
              "  </style>\n",
              "\n",
              "      <script>\n",
              "        const buttonEl =\n",
              "          document.querySelector('#df-fd08d701-5cbd-45e8-966a-460c63f3ddeb button.colab-df-convert');\n",
              "        buttonEl.style.display =\n",
              "          google.colab.kernel.accessAllowed ? 'block' : 'none';\n",
              "\n",
              "        async function convertToInteractive(key) {\n",
              "          const element = document.querySelector('#df-fd08d701-5cbd-45e8-966a-460c63f3ddeb');\n",
              "          const dataTable =\n",
              "            await google.colab.kernel.invokeFunction('convertToInteractive',\n",
              "                                                     [key], {});\n",
              "          if (!dataTable) return;\n",
              "\n",
              "          const docLinkHtml = 'Like what you see? Visit the ' +\n",
              "            '<a target=\"_blank\" href=https://colab.research.google.com/notebooks/data_table.ipynb>data table notebook</a>'\n",
              "            + ' to learn more about interactive tables.';\n",
              "          element.innerHTML = '';\n",
              "          dataTable['output_type'] = 'display_data';\n",
              "          await google.colab.output.renderOutput(dataTable, element);\n",
              "          const docLink = document.createElement('div');\n",
              "          docLink.innerHTML = docLinkHtml;\n",
              "          element.appendChild(docLink);\n",
              "        }\n",
              "      </script>\n",
              "    </div>\n",
              "  </div>\n",
              "  "
            ]
          },
          "metadata": {},
          "execution_count": 23
        }
      ]
    },
    {
      "cell_type": "code",
      "source": [
        "# check whether missing values in these columns\n",
        "print(all_data.isnull().sum())"
      ],
      "metadata": {
        "id": "8QX1HjDpUak1",
        "colab": {
          "base_uri": "https://localhost:8080/"
        },
        "outputId": "c4a540ab-52e1-4fcd-c239-bd18d3156ccc"
      },
      "execution_count": 24,
      "outputs": [
        {
          "output_type": "stream",
          "name": "stdout",
          "text": [
            "Date Time             0\n",
            "MMSI Number           0\n",
            "Rate of Turn          0\n",
            "Speed Over Ground     0\n",
            "Longitude             0\n",
            "Latitude              0\n",
            "Course Over Ground    0\n",
            "Heading Angle         0\n",
            "Timestamp             0\n",
            "Channel of AIS        0\n",
            "dtype: int64\n"
          ]
        }
      ]
    },
    {
      "cell_type": "code",
      "source": [
        "all_data=all_data.dropna()    # Dropping missing values if exist\n",
        "all_data.count()"
      ],
      "metadata": {
        "colab": {
          "base_uri": "https://localhost:8080/"
        },
        "id": "GhjVHSqqquP5",
        "outputId": "f772c599-704f-4c1f-b976-18e80d0b9d72"
      },
      "execution_count": 25,
      "outputs": [
        {
          "output_type": "execute_result",
          "data": {
            "text/plain": [
              "Date Time             2679441\n",
              "MMSI Number           2679441\n",
              "Rate of Turn          2679441\n",
              "Speed Over Ground     2679441\n",
              "Longitude             2679441\n",
              "Latitude              2679441\n",
              "Course Over Ground    2679441\n",
              "Heading Angle         2679441\n",
              "Timestamp             2679441\n",
              "Channel of AIS        2679441\n",
              "dtype: int64"
            ]
          },
          "metadata": {},
          "execution_count": 25
        }
      ]
    },
    {
      "cell_type": "code",
      "source": [
        "all_data.describe()"
      ],
      "metadata": {
        "colab": {
          "base_uri": "https://localhost:8080/",
          "height": 300
        },
        "id": "9VlHQH8uBqd-",
        "outputId": "be56778c-e975-47f8-c358-657fd8579b58"
      },
      "execution_count": 26,
      "outputs": [
        {
          "output_type": "execute_result",
          "data": {
            "text/plain": [
              "        MMSI Number  Rate of Turn  Speed Over Ground     Longitude  \\\n",
              "count  2.679441e+06  2.679441e+06       2.679441e+06  2.679441e+06   \n",
              "mean   5.165599e+08  5.956614e+01       3.608351e+00  1.036957e+02   \n",
              "std    9.858573e+07  7.156036e+01       6.790521e+00  1.714469e-01   \n",
              "min    2.000000e+08 -1.000000e+00       0.000000e+00  1.021711e+02   \n",
              "25%    5.252000e+08  0.000000e+00       0.000000e+00  1.036184e+02   \n",
              "50%    5.630289e+08  0.000000e+00       1.000000e-01  1.037117e+02   \n",
              "75%    5.647420e+08  1.280000e+02       6.200000e+00  1.037709e+02   \n",
              "max    7.777778e+08  2.550000e+02       1.023000e+02  1.043689e+02   \n",
              "\n",
              "           Latitude  Course Over Ground  Heading Angle     Timestamp  \n",
              "count  2.679441e+06        2.679441e+06   2.679441e+06  2.679441e+06  \n",
              "mean   1.274115e+00        1.993225e+02   2.806332e+02  3.143662e+01  \n",
              "std    7.025913e-02        1.112658e+02   1.726884e+02  1.792263e+01  \n",
              "min    1.135400e+00        0.000000e+00   0.000000e+00  0.000000e+00  \n",
              "25%    1.227002e+00        1.044000e+02   1.220000e+02  1.600000e+01  \n",
              "50%    1.272050e+00        2.167000e+02   2.650000e+02  3.200000e+01  \n",
              "75%    1.304865e+00        2.950000e+02   5.110000e+02  4.700000e+01  \n",
              "max    1.888687e+00        3.600000e+02   5.110000e+02  6.300000e+01  "
            ],
            "text/html": [
              "\n",
              "  <div id=\"df-6bfda6a4-ee59-48c4-b5b1-0b5d580474b2\">\n",
              "    <div class=\"colab-df-container\">\n",
              "      <div>\n",
              "<style scoped>\n",
              "    .dataframe tbody tr th:only-of-type {\n",
              "        vertical-align: middle;\n",
              "    }\n",
              "\n",
              "    .dataframe tbody tr th {\n",
              "        vertical-align: top;\n",
              "    }\n",
              "\n",
              "    .dataframe thead th {\n",
              "        text-align: right;\n",
              "    }\n",
              "</style>\n",
              "<table border=\"1\" class=\"dataframe\">\n",
              "  <thead>\n",
              "    <tr style=\"text-align: right;\">\n",
              "      <th></th>\n",
              "      <th>MMSI Number</th>\n",
              "      <th>Rate of Turn</th>\n",
              "      <th>Speed Over Ground</th>\n",
              "      <th>Longitude</th>\n",
              "      <th>Latitude</th>\n",
              "      <th>Course Over Ground</th>\n",
              "      <th>Heading Angle</th>\n",
              "      <th>Timestamp</th>\n",
              "    </tr>\n",
              "  </thead>\n",
              "  <tbody>\n",
              "    <tr>\n",
              "      <th>count</th>\n",
              "      <td>2.679441e+06</td>\n",
              "      <td>2.679441e+06</td>\n",
              "      <td>2.679441e+06</td>\n",
              "      <td>2.679441e+06</td>\n",
              "      <td>2.679441e+06</td>\n",
              "      <td>2.679441e+06</td>\n",
              "      <td>2.679441e+06</td>\n",
              "      <td>2.679441e+06</td>\n",
              "    </tr>\n",
              "    <tr>\n",
              "      <th>mean</th>\n",
              "      <td>5.165599e+08</td>\n",
              "      <td>5.956614e+01</td>\n",
              "      <td>3.608351e+00</td>\n",
              "      <td>1.036957e+02</td>\n",
              "      <td>1.274115e+00</td>\n",
              "      <td>1.993225e+02</td>\n",
              "      <td>2.806332e+02</td>\n",
              "      <td>3.143662e+01</td>\n",
              "    </tr>\n",
              "    <tr>\n",
              "      <th>std</th>\n",
              "      <td>9.858573e+07</td>\n",
              "      <td>7.156036e+01</td>\n",
              "      <td>6.790521e+00</td>\n",
              "      <td>1.714469e-01</td>\n",
              "      <td>7.025913e-02</td>\n",
              "      <td>1.112658e+02</td>\n",
              "      <td>1.726884e+02</td>\n",
              "      <td>1.792263e+01</td>\n",
              "    </tr>\n",
              "    <tr>\n",
              "      <th>min</th>\n",
              "      <td>2.000000e+08</td>\n",
              "      <td>-1.000000e+00</td>\n",
              "      <td>0.000000e+00</td>\n",
              "      <td>1.021711e+02</td>\n",
              "      <td>1.135400e+00</td>\n",
              "      <td>0.000000e+00</td>\n",
              "      <td>0.000000e+00</td>\n",
              "      <td>0.000000e+00</td>\n",
              "    </tr>\n",
              "    <tr>\n",
              "      <th>25%</th>\n",
              "      <td>5.252000e+08</td>\n",
              "      <td>0.000000e+00</td>\n",
              "      <td>0.000000e+00</td>\n",
              "      <td>1.036184e+02</td>\n",
              "      <td>1.227002e+00</td>\n",
              "      <td>1.044000e+02</td>\n",
              "      <td>1.220000e+02</td>\n",
              "      <td>1.600000e+01</td>\n",
              "    </tr>\n",
              "    <tr>\n",
              "      <th>50%</th>\n",
              "      <td>5.630289e+08</td>\n",
              "      <td>0.000000e+00</td>\n",
              "      <td>1.000000e-01</td>\n",
              "      <td>1.037117e+02</td>\n",
              "      <td>1.272050e+00</td>\n",
              "      <td>2.167000e+02</td>\n",
              "      <td>2.650000e+02</td>\n",
              "      <td>3.200000e+01</td>\n",
              "    </tr>\n",
              "    <tr>\n",
              "      <th>75%</th>\n",
              "      <td>5.647420e+08</td>\n",
              "      <td>1.280000e+02</td>\n",
              "      <td>6.200000e+00</td>\n",
              "      <td>1.037709e+02</td>\n",
              "      <td>1.304865e+00</td>\n",
              "      <td>2.950000e+02</td>\n",
              "      <td>5.110000e+02</td>\n",
              "      <td>4.700000e+01</td>\n",
              "    </tr>\n",
              "    <tr>\n",
              "      <th>max</th>\n",
              "      <td>7.777778e+08</td>\n",
              "      <td>2.550000e+02</td>\n",
              "      <td>1.023000e+02</td>\n",
              "      <td>1.043689e+02</td>\n",
              "      <td>1.888687e+00</td>\n",
              "      <td>3.600000e+02</td>\n",
              "      <td>5.110000e+02</td>\n",
              "      <td>6.300000e+01</td>\n",
              "    </tr>\n",
              "  </tbody>\n",
              "</table>\n",
              "</div>\n",
              "      <button class=\"colab-df-convert\" onclick=\"convertToInteractive('df-6bfda6a4-ee59-48c4-b5b1-0b5d580474b2')\"\n",
              "              title=\"Convert this dataframe to an interactive table.\"\n",
              "              style=\"display:none;\">\n",
              "        \n",
              "  <svg xmlns=\"http://www.w3.org/2000/svg\" height=\"24px\"viewBox=\"0 0 24 24\"\n",
              "       width=\"24px\">\n",
              "    <path d=\"M0 0h24v24H0V0z\" fill=\"none\"/>\n",
              "    <path d=\"M18.56 5.44l.94 2.06.94-2.06 2.06-.94-2.06-.94-.94-2.06-.94 2.06-2.06.94zm-11 1L8.5 8.5l.94-2.06 2.06-.94-2.06-.94L8.5 2.5l-.94 2.06-2.06.94zm10 10l.94 2.06.94-2.06 2.06-.94-2.06-.94-.94-2.06-.94 2.06-2.06.94z\"/><path d=\"M17.41 7.96l-1.37-1.37c-.4-.4-.92-.59-1.43-.59-.52 0-1.04.2-1.43.59L10.3 9.45l-7.72 7.72c-.78.78-.78 2.05 0 2.83L4 21.41c.39.39.9.59 1.41.59.51 0 1.02-.2 1.41-.59l7.78-7.78 2.81-2.81c.8-.78.8-2.07 0-2.86zM5.41 20L4 18.59l7.72-7.72 1.47 1.35L5.41 20z\"/>\n",
              "  </svg>\n",
              "      </button>\n",
              "      \n",
              "  <style>\n",
              "    .colab-df-container {\n",
              "      display:flex;\n",
              "      flex-wrap:wrap;\n",
              "      gap: 12px;\n",
              "    }\n",
              "\n",
              "    .colab-df-convert {\n",
              "      background-color: #E8F0FE;\n",
              "      border: none;\n",
              "      border-radius: 50%;\n",
              "      cursor: pointer;\n",
              "      display: none;\n",
              "      fill: #1967D2;\n",
              "      height: 32px;\n",
              "      padding: 0 0 0 0;\n",
              "      width: 32px;\n",
              "    }\n",
              "\n",
              "    .colab-df-convert:hover {\n",
              "      background-color: #E2EBFA;\n",
              "      box-shadow: 0px 1px 2px rgba(60, 64, 67, 0.3), 0px 1px 3px 1px rgba(60, 64, 67, 0.15);\n",
              "      fill: #174EA6;\n",
              "    }\n",
              "\n",
              "    [theme=dark] .colab-df-convert {\n",
              "      background-color: #3B4455;\n",
              "      fill: #D2E3FC;\n",
              "    }\n",
              "\n",
              "    [theme=dark] .colab-df-convert:hover {\n",
              "      background-color: #434B5C;\n",
              "      box-shadow: 0px 1px 3px 1px rgba(0, 0, 0, 0.15);\n",
              "      filter: drop-shadow(0px 1px 2px rgba(0, 0, 0, 0.3));\n",
              "      fill: #FFFFFF;\n",
              "    }\n",
              "  </style>\n",
              "\n",
              "      <script>\n",
              "        const buttonEl =\n",
              "          document.querySelector('#df-6bfda6a4-ee59-48c4-b5b1-0b5d580474b2 button.colab-df-convert');\n",
              "        buttonEl.style.display =\n",
              "          google.colab.kernel.accessAllowed ? 'block' : 'none';\n",
              "\n",
              "        async function convertToInteractive(key) {\n",
              "          const element = document.querySelector('#df-6bfda6a4-ee59-48c4-b5b1-0b5d580474b2');\n",
              "          const dataTable =\n",
              "            await google.colab.kernel.invokeFunction('convertToInteractive',\n",
              "                                                     [key], {});\n",
              "          if (!dataTable) return;\n",
              "\n",
              "          const docLinkHtml = 'Like what you see? Visit the ' +\n",
              "            '<a target=\"_blank\" href=https://colab.research.google.com/notebooks/data_table.ipynb>data table notebook</a>'\n",
              "            + ' to learn more about interactive tables.';\n",
              "          element.innerHTML = '';\n",
              "          dataTable['output_type'] = 'display_data';\n",
              "          await google.colab.output.renderOutput(dataTable, element);\n",
              "          const docLink = document.createElement('div');\n",
              "          docLink.innerHTML = docLinkHtml;\n",
              "          element.appendChild(docLink);\n",
              "        }\n",
              "      </script>\n",
              "    </div>\n",
              "  </div>\n",
              "  "
            ]
          },
          "metadata": {},
          "execution_count": 26
        }
      ]
    },
    {
      "cell_type": "code",
      "source": [
        "#Rate of turn (+-127) [-128 = not available]\n",
        "# SOG (0-102.2) [102.3 = not available]\n",
        "# COG (0-3599) [3600 = not available]\n",
        "# Heading Angle (0-359) [511 = not available/default]\n",
        "# Timestamp (0-59) [60 = not available/default ; 62 = electronic position fixing system operates in estimated mode ; 61 = manual input mode ; 63 = inoperative positioning system ]"
      ],
      "metadata": {
        "id": "gfwLRqIHom4p"
      },
      "execution_count": null,
      "outputs": []
    },
    {
      "cell_type": "code",
      "source": [
        ""
      ],
      "metadata": {
        "id": "a7B_-Mf7rDdG"
      },
      "execution_count": null,
      "outputs": []
    },
    {
      "cell_type": "markdown",
      "source": [
        "Detect Outliers"
      ],
      "metadata": {
        "id": "avfcmMU5re3K"
      }
    },
    {
      "cell_type": "code",
      "source": [
        "import seaborn as sns                       #visualisation\n",
        "import matplotlib.pyplot as plt             #visualisation\n",
        "\n",
        "sns.boxplot(x=all_data['Speed Over Ground'])"
      ],
      "metadata": {
        "colab": {
          "base_uri": "https://localhost:8080/",
          "height": 296
        },
        "id": "tNNJJQ4dp66y",
        "outputId": "0354b309-c48a-49ca-ca1d-c9c503185c77"
      },
      "execution_count": 27,
      "outputs": [
        {
          "output_type": "execute_result",
          "data": {
            "text/plain": [
              "<matplotlib.axes._subplots.AxesSubplot at 0x7fc43a2bdcd0>"
            ]
          },
          "metadata": {},
          "execution_count": 27
        },
        {
          "output_type": "display_data",
          "data": {
            "text/plain": [
              "<Figure size 432x288 with 1 Axes>"
            ],
            "image/png": "[encoded data removed]"
          },
          "metadata": {
            "needs_background": "light"
          }
        }
      ]
    },
    {
      "cell_type": "code",
      "source": [
        "all_data['Speed Over Ground'].describe()"
      ],
      "metadata": {
        "colab": {
          "base_uri": "https://localhost:8080/"
        },
        "id": "KKJ1YEP4d3VJ",
        "outputId": "9e017e4d-b125-48af-f49e-255727c7103e"
      },
      "execution_count": 34,
      "outputs": [
        {
          "output_type": "execute_result",
          "data": {
            "text/plain": [
              "count    2.679441e+06\n",
              "mean     3.608351e+00\n",
              "std      6.790521e+00\n",
              "min      0.000000e+00\n",
              "25%      0.000000e+00\n",
              "50%      1.000000e-01\n",
              "75%      6.200000e+00\n",
              "max      1.023000e+02\n",
              "Name: Speed Over Ground, dtype: float64"
            ]
          },
          "metadata": {},
          "execution_count": 34
        }
      ]
    },
    {
      "cell_type": "code",
      "source": [
        "sns.boxplot(x=all_data['Course Over Ground'])"
      ],
      "metadata": {
        "colab": {
          "base_uri": "https://localhost:8080/",
          "height": 296
        },
        "id": "vpe_EM9Wrxak",
        "outputId": "90d3bcd8-6345-424e-fac3-578ae8db6a69"
      },
      "execution_count": 29,
      "outputs": [
        {
          "output_type": "execute_result",
          "data": {
            "text/plain": [
              "<matplotlib.axes._subplots.AxesSubplot at 0x7fc43a2253d0>"
            ]
          },
          "metadata": {},
          "execution_count": 29
        },
        {
          "output_type": "display_data",
          "data": {
            "text/plain": [
              "<Figure size 432x288 with 1 Axes>"
            ],
            "image/png": "[encoded data removed]"
          },
          "metadata": {
            "needs_background": "light"
          }
        }
      ]
    },
    {
      "cell_type": "code",
      "source": [
        "all_data['Course Over Ground'].describe()"
      ],
      "metadata": {
        "colab": {
          "base_uri": "https://localhost:8080/"
        },
        "id": "kfIPnJEyd9uB",
        "outputId": "d99a6bf5-dd13-46b3-80cb-fca39f5cc573"
      },
      "execution_count": 30,
      "outputs": [
        {
          "output_type": "execute_result",
          "data": {
            "text/plain": [
              "count    2.679441e+06\n",
              "mean     1.993225e+02\n",
              "std      1.112658e+02\n",
              "min      0.000000e+00\n",
              "25%      1.044000e+02\n",
              "50%      2.167000e+02\n",
              "75%      2.950000e+02\n",
              "max      3.600000e+02\n",
              "Name: Course Over Ground, dtype: float64"
            ]
          },
          "metadata": {},
          "execution_count": 30
        }
      ]
    },
    {
      "cell_type": "code",
      "source": [
        "sns.boxplot(x=all_data['Rate of Turn'])"
      ],
      "metadata": {
        "colab": {
          "base_uri": "https://localhost:8080/",
          "height": 296
        },
        "id": "BaDyWAQOrxqs",
        "outputId": "75d2b359-4e9d-4fb2-c6d4-93a45132511a"
      },
      "execution_count": 31,
      "outputs": [
        {
          "output_type": "execute_result",
          "data": {
            "text/plain": [
              "<matplotlib.axes._subplots.AxesSubplot at 0x7fc439d5a490>"
            ]
          },
          "metadata": {},
          "execution_count": 31
        },
        {
          "output_type": "display_data",
          "data": {
            "text/plain": [
              "<Figure size 432x288 with 1 Axes>"
            ],
            "image/png": "[encoded data removed]"
          },
          "metadata": {
            "needs_background": "light"
          }
        }
      ]
    },
    {
      "cell_type": "code",
      "source": [
        "all_data['Rate of Turn'].describe()"
      ],
      "metadata": {
        "colab": {
          "base_uri": "https://localhost:8080/"
        },
        "id": "xfzz3kR5eB6H",
        "outputId": "bb192461-84f1-4099-ee2c-e9e65d9063cb"
      },
      "execution_count": 32,
      "outputs": [
        {
          "output_type": "execute_result",
          "data": {
            "text/plain": [
              "count    2.679441e+06\n",
              "mean     5.956614e+01\n",
              "std      7.156036e+01\n",
              "min     -1.000000e+00\n",
              "25%      0.000000e+00\n",
              "50%      0.000000e+00\n",
              "75%      1.280000e+02\n",
              "max      2.550000e+02\n",
              "Name: Rate of Turn, dtype: float64"
            ]
          },
          "metadata": {},
          "execution_count": 32
        }
      ]
    },
    {
      "cell_type": "code",
      "source": [
        "sns.boxplot(x=all_data['Heading Angle'])"
      ],
      "metadata": {
        "colab": {
          "base_uri": "https://localhost:8080/",
          "height": 296
        },
        "id": "nehZRETttRB_",
        "outputId": "6b1ee831-a1d6-42cc-9936-e6d9994e5e75"
      },
      "execution_count": 37,
      "outputs": [
        {
          "output_type": "execute_result",
          "data": {
            "text/plain": [
              "<matplotlib.axes._subplots.AxesSubplot at 0x7fc439c43710>"
            ]
          },
          "metadata": {},
          "execution_count": 37
        },
        {
          "output_type": "display_data",
          "data": {
            "text/plain": [
              "<Figure size 432x288 with 1 Axes>"
            ],
            "image/png": "[encoded data removed]"
          },
          "metadata": {
            "needs_background": "light"
          }
        }
      ]
    },
    {
      "cell_type": "code",
      "source": [
        "all_data['Heading Angle'].describe()"
      ],
      "metadata": {
        "colab": {
          "base_uri": "https://localhost:8080/"
        },
        "id": "fQehVd5LeJjT",
        "outputId": "cd6d53c5-b75e-45b3-f0bb-164b3323b50f"
      },
      "execution_count": 35,
      "outputs": [
        {
          "output_type": "execute_result",
          "data": {
            "text/plain": [
              "count    2.679441e+06\n",
              "mean     2.806332e+02\n",
              "std      1.726884e+02\n",
              "min      0.000000e+00\n",
              "25%      1.220000e+02\n",
              "50%      2.650000e+02\n",
              "75%      5.110000e+02\n",
              "max      5.110000e+02\n",
              "Name: Heading Angle, dtype: float64"
            ]
          },
          "metadata": {},
          "execution_count": 35
        }
      ]
    },
    {
      "cell_type": "code",
      "source": [
        "# Refer Tableau for Vessels in Maps"
      ],
      "metadata": {
        "id": "B2cBu0Xuw2pK"
      },
      "execution_count": 36,
      "outputs": []
    },
    {
      "cell_type": "code",
      "source": [
        "# Bar graph(AIS type), Histogram(SOG)[for 1/2 MMSI]"
      ],
      "metadata": {
        "id": "FcI_bWMexMPC"
      },
      "execution_count": null,
      "outputs": []
    },
    {
      "cell_type": "code",
      "source": [
        "# Bar graph\n",
        "sns.countplot(x='Channel of AIS',data=all_data)"
      ],
      "metadata": {
        "id": "Z__pa37hz_Jq",
        "colab": {
          "base_uri": "https://localhost:8080/",
          "height": 307
        },
        "outputId": "9b5c66bd-dd1d-4b11-ee54-ccbf80e1901d"
      },
      "execution_count": 38,
      "outputs": [
        {
          "output_type": "execute_result",
          "data": {
            "text/plain": [
              "<matplotlib.axes._subplots.AxesSubplot at 0x7fc439bc6d10>"
            ]
          },
          "metadata": {},
          "execution_count": 38
        },
        {
          "output_type": "display_data",
          "data": {
            "text/plain": [
              "<Figure size 432x288 with 1 Axes>"
            ],
            "image/png": "[encoded data removed]"
          },
          "metadata": {
            "needs_background": "light"
          }
        }
      ]
    },
    {
      "cell_type": "code",
      "source": [
        "all_data['Channel of AIS'].value_counts()"
      ],
      "metadata": {
        "colab": {
          "base_uri": "https://localhost:8080/"
        },
        "id": "Zn-BJ4wxpENW",
        "outputId": "e3615b92-f4f5-4733-fbc0-a66b40299efc"
      },
      "execution_count": 39,
      "outputs": [
        {
          "output_type": "execute_result",
          "data": {
            "text/plain": [
              "A    2636039\n",
              "B      43402\n",
              "Name: Channel of AIS, dtype: int64"
            ]
          },
          "metadata": {},
          "execution_count": 39
        }
      ]
    },
    {
      "cell_type": "code",
      "source": [
        "# Histogram Line\n",
        "MMSIvalue=all_data[all_data['MMSI Number']==566241000]\n",
        "print(MMSIvalue.shape)"
      ],
      "metadata": {
        "colab": {
          "base_uri": "https://localhost:8080/"
        },
        "id": "FzVkr-fzhVs3",
        "outputId": "f3561536-f71b-41a3-b81e-2124351a0bd1"
      },
      "execution_count": 40,
      "outputs": [
        {
          "output_type": "stream",
          "name": "stdout",
          "text": [
            "(1373, 10)\n"
          ]
        }
      ]
    },
    {
      "cell_type": "code",
      "source": [
        "print(MMSIvalue['Speed Over Ground'])"
      ],
      "metadata": {
        "colab": {
          "base_uri": "https://localhost:8080/"
        },
        "id": "nKW-27JKqBUE",
        "outputId": "dbf409d3-4cfe-449b-eab7-75da374e4a24"
      },
      "execution_count": 41,
      "outputs": [
        {
          "output_type": "stream",
          "name": "stdout",
          "text": [
            "0       0.0\n",
            "1       0.0\n",
            "2       0.0\n",
            "3       0.0\n",
            "4       0.0\n",
            "       ... \n",
            "1368    0.0\n",
            "1369    0.0\n",
            "1370    0.5\n",
            "1371    0.9\n",
            "1372    0.9\n",
            "Name: Speed Over Ground, Length: 1373, dtype: float64\n"
          ]
        }
      ]
    },
    {
      "cell_type": "code",
      "source": [
        "plt.plot(MMSIvalue['Speed Over Ground'])\n",
        "plt.xlabel('Row Number')\n",
        "plt.ylabel('Speed Over Ground')\n",
        "plt.title('Speed Over Ground Record of 566241000 (MMSI Number) Vessel')"
      ],
      "metadata": {
        "colab": {
          "base_uri": "https://localhost:8080/",
          "height": 312
        },
        "id": "3kRmBmF9oBl1",
        "outputId": "56f9174f-ac5b-481e-fb44-d7bf5ae512f9"
      },
      "execution_count": 42,
      "outputs": [
        {
          "output_type": "execute_result",
          "data": {
            "text/plain": [
              "Text(0.5, 1.0, 'Speed Over Ground Record of 566241000 (MMSI Number) Vessel')"
            ]
          },
          "metadata": {},
          "execution_count": 42
        },
        {
          "output_type": "display_data",
          "data": {
            "text/plain": [
              "<Figure size 432x288 with 1 Axes>"
            ],
            "image/png": "[encoded data removed]"
          },
          "metadata": {
            "needs_background": "light"
          }
        }
      ]
    },
    {
      "cell_type": "code",
      "source": [
        "# Line graph\n",
        "MMSIvalue2=all_data[all_data['MMSI Number']==636018003]\n",
        "print(MMSIvalue2.shape)\n",
        "sns.lineplot(x=MMSIvalue2['Date Time'],y=MMSIvalue2['Speed Over Ground'])"
      ],
      "metadata": {
        "colab": {
          "base_uri": "https://localhost:8080/",
          "height": 314
        },
        "id": "QwiyneoBqgSC",
        "outputId": "1e769565-78ae-4a86-9703-63c1a8ef6d6f"
      },
      "execution_count": 43,
      "outputs": [
        {
          "output_type": "stream",
          "name": "stdout",
          "text": [
            "(373, 10)\n"
          ]
        },
        {
          "output_type": "execute_result",
          "data": {
            "text/plain": [
              "<matplotlib.axes._subplots.AxesSubplot at 0x7fc439b1b950>"
            ]
          },
          "metadata": {},
          "execution_count": 43
        },
        {
          "output_type": "display_data",
          "data": {
            "text/plain": [
              "<Figure size 432x288 with 1 Axes>"
            ],
            "image/png": "[encoded data removed]"
          },
          "metadata": {
            "needs_background": "light"
          }
        }
      ]
    }
  ]
}